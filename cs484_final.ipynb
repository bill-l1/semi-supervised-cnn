{
  "cells": [
    {
      "cell_type": "markdown",
      "metadata": {
        "id": "s6fRi3NTHDMe"
      },
      "source": [
        "# Semi-supervised image classification using local label propagation\n",
        "\n",
        "- Aydan Jiwani (email redacted)\n",
        "- Bill Li (email redacted)\n",
        "- Simhon Chourasa (email redacted)"
      ]
    },
    {
      "cell_type": "markdown",
      "metadata": {
        "id": "cfWjvlasG6H2"
      },
      "source": [
        "## Contributions\n",
        "\n",
        "- Aydan: abstract, parts of methodology, conclusion and LLP debugging\n",
        "- Bill: parts of methodology/training, supervised and weighted-knn procedures\n",
        "- Simhon: introduction, parts of methodology/training, LLP implementation"
      ]
    },
    {
      "cell_type": "markdown",
      "metadata": {
        "id": "TlWX52jOG3UI"
      },
      "source": [
        "# Abstract\n",
        "\n",
        "The goal of this project is to develop a semi-supervised learning framework for image classification tasks, focusing on leveraging both labelled and unlabelled data to improve model performance where labelled data is limited. The methodology employs a combination of label propagation and clustering techniques to effectively utilize the unlabelled data and refine the model predictions. Specifically, the project implements a Local Label Propagation (LLP) algorithm described in https://arxiv.org/pdf/1905.11581.pdf, which assigns “pseudolabels” from labelled data to unlabelled data based on their feature similarities. To ensure robust label propagation, we combine cross entropy loss on propagated labels with unsupervised K-means clustering loss. We use the CIFAR-10 dataset for training and validation, and a pretrained ResNet18 model for the base classifier.\n",
        "\n"
      ]
    },
    {
      "cell_type": "markdown",
      "source": [
        "## Code libraries\n",
        "- Numpy - Used for matrix operations\n",
        "- Matplotlib - Used for graphing\n",
        "- Pytorch - Used for ResNet, data loading, and various neural network tools\n",
        "- Sklearn - Used for calculating centroids for K-Means clustering loss\n",
        "\n",
        "\n"
      ],
      "metadata": {
        "id": "8f_mt5hf682j"
      }
    },
    {
      "cell_type": "markdown",
      "source": [
        "## Introduction\n",
        "\n",
        "As described in [1], training with Local Label Propagation works in two steps:\n",
        "For each input image, we use our model to generate both a prediction of the classification of the image and the embedding from the second-last layer in the model (the layer before the final fully-connected one).\n",
        "For each of the unlabelled data points, we assign a pseudo-label to it using a method similar to K-nearest neighbours (k-NN), and get a confidence value associated with that pseudo-label. We can then train the model on unlabelled samples with a loss proportional to that confidence value, with the loss function being composed of both cross-entropy and aggregation loss (details below)."
      ],
      "metadata": {
        "id": "9NLxfHqK7HT2"
      }
    },
    {
      "cell_type": "markdown",
      "source": [
        "## Methodology\n",
        "\n",
        "We use the same basic model for all of our testing, which has Resnet-18 as a base model and replaces the final fully-connected layer of the Resnet architecture with a fully-connected layer with the desired output size of 10, corresponding to the number of classes in the dataset.\n",
        "\n",
        "To compare the efficacy of LLP against strictly supervised learning, we learn on the same dataset but with different proportions of the data being labelled. Specifically, we tried learning with 5%, 10%, and 25% of the 50 000 images in the training data being labelled.\n",
        "\n",
        "To get a baseline measurement, we perform supervised learning on only the labelled datapoints. We then looked at the weighted KNN semi-supervised approach, which predicts pseudolabels for unlabelled points based on their local proximity with labelled points. These predictions are sourced from the last feature layer (d=128) before the fully connected layer.\n",
        "\n",
        "First, the probability that a given feature vector $ v$ will be identified as an example $ i$ is given by the following non-parametric softmax function as suggested in [2]:\n",
        "\n",
        "\\begin{align*}\n",
        "\tP(i | v) = \\frac{\\exp(v_i^T v / \\tau)}{\\sum_{j = 1}^N \\exp(v_j^T v / \\tau)}\n",
        "\\end{align*}\n",
        "\n",
        "where $\\tau$ is a temperature hyperparameter.\n",
        "\n",
        "A weight for each pseudo-labelled vector as each class, $w(v, j)$ (which is the weight for pseudo-labelled vector v as class j) is determined with the following equation:\n",
        "\n",
        "\\begin{align*}\n",
        "\tw(v, j) = \\sum_{i \\in I_j} P(i | v)\n",
        "\\end{align*}\n",
        "\n",
        "where $I_j$ is the classes of the vectors in the subset of the k-nearest neighbours of $v$ which have class $j, and $v_i$ is the $i^{\\text{th}}$ vector corresponding to that neighbour.\n",
        "\n",
        "The corresponding probability $p(v, j)$ that the vector v is of class j is defined as:\n",
        "\n",
        "\\begin{align*}\n",
        "\tp(v, j) = \\frac{w(v, j)}{\\sum_{k=1}^{10} w(v, k)}\n",
        "\\end{align*}\n",
        "\n",
        "The associated pseudolabel $y$ and confidence score $c$ is obtained as such:\n",
        "\n",
        "\\begin{align*}\n",
        "\ty = \\arg \\max_j p(v, j),\n",
        "  c = p(v, y)\n",
        "\\end{align*}\n",
        "\n",
        "The local label propagation method determines pseudolabels in a similar fashion: First, a weight for each pseudo-labelled vector as each class, $w(i, j)$ (which is the weight for pseudo-labelled vector i as class j) is determined with the following equation:\n",
        "\n",
        "\\begin{align*}\n",
        "\tw(v, j) = \\sum_{i \\in I_j} \\frac{P(i | v)}{\\rho(v_i},\n",
        "\\end{align*}\n",
        "\n",
        "The term $\\rho(v_i) = \\Sigma_{j \\in N_T (v_i)} {P(j|v_i)}$ is a measure of local embedding density equal to the probability $v_i$ belongs to the class of one of the T nearest neighbours.\n",
        "\n",
        "\n",
        "For the weighted KNN and LLP approaches, in addition to the standard cross-entropy loss function used for classification, we also made use of aggregation loss to allow the unlabelled datapoints to impact the embedding vectors. As suggested in the project description, we made use of K-means clustering, with a loss function of $\\Sigma^{N}_{i=1}  \\Sigma^{K}_{k=1} s_{ik} || z_i - \\mu_k||^2$."
      ],
      "metadata": {
        "id": "2vkRWVaV7XNW"
      }
    },
    {
      "cell_type": "markdown",
      "source": [
        "## Training\n",
        "\n",
        "For all training, we used a stochastic gradient descent optimizer with a learning rate of $0.001$ for supervised learning, and a learning rate of $0.0001$ for semi-supervised learning. While [1] uses a much higher learning rate of $0.03$, it also has a learning rate dampening factor, and training is done in stages with the learning rate dropping drastically when the validation performance reaches a plateau. Due to our computation limitations, we were unable to train for many epochs, and decided to train for less epochs with a larger learning rate, without the other mechanisms to have learning rate drop off. We found that training converged in some way even without learning rate dampening or other such measures, and so this was considered a reasonable compromise. We trained each model for 5 epochs.\n",
        "\n",
        "We chose the hyperparameters for the number of nearest-neighbours to look at for KNN and LLP to be $K = 5$ and $T = 10$, which deviates from the paper, due to the chosen dataset having only 10 classes.\n"
      ],
      "metadata": {
        "id": "oiTg1MTc79-n"
      }
    },
    {
      "cell_type": "markdown",
      "source": [
        "# Setup"
      ],
      "metadata": {
        "id": "X-ohdogQqwUU"
      }
    },
    {
      "cell_type": "code",
      "execution_count": 1,
      "metadata": {
        "id": "Gt4OIkdTOnjJ"
      },
      "outputs": [],
      "source": [
        "import numpy as np\n",
        "import matplotlib.pyplot as plt\n",
        "from tqdm import tqdm\n",
        "\n",
        "import torch\n",
        "import torchvision\n",
        "import torch.nn.functional as F\n",
        "from torch import nn\n",
        "from torch.utils.data import DataLoader\n",
        "import torchvision.transforms as transforms\n",
        "import torchvision.transforms.functional as tF\n",
        "import torchvision.datasets as datasets\n",
        "from torchvision.models import ResNet18_Weights\n",
        "\n",
        "from sklearn.cluster import KMeans"
      ]
    },
    {
      "cell_type": "code",
      "execution_count": 2,
      "metadata": {
        "id": "_SPVK8GKFQ6K"
      },
      "outputs": [],
      "source": [
        "device = torch.device(\"cuda:0\" if torch.cuda.is_available() else \"cpu\")\n",
        "\n",
        "torch.manual_seed(42)\n",
        "np.random.seed(42)"
      ]
    },
    {
      "cell_type": "code",
      "execution_count": 3,
      "metadata": {
        "colab": {
          "base_uri": "https://localhost:8080/"
        },
        "id": "MZpGRyFgzGDT",
        "outputId": "07ac5001-fcbd-458f-e618-0472765fe0df"
      },
      "outputs": [
        {
          "output_type": "stream",
          "name": "stdout",
          "text": [
            "Downloading https://www.cs.toronto.edu/~kriz/cifar-10-python.tar.gz to ./data/cifar-10-python.tar.gz\n"
          ]
        },
        {
          "output_type": "stream",
          "name": "stderr",
          "text": [
            "100%|██████████| 170498071/170498071 [00:13<00:00, 12693992.54it/s]\n"
          ]
        },
        {
          "output_type": "stream",
          "name": "stdout",
          "text": [
            "Extracting ./data/cifar-10-python.tar.gz to ./data\n",
            "Files already downloaded and verified\n"
          ]
        }
      ],
      "source": [
        "# TODO: create more datasets\n",
        "\n",
        "UNLABELLED = -1\n",
        "\n",
        "transform = transforms.Compose([\n",
        "    transforms.Resize(256),\n",
        "    transforms.CenterCrop(224),\n",
        "    transforms.ToTensor(),\n",
        "    transforms.Normalize((0.4914, 0.4822, 0.4465), (0.247, 0.243, 0.261)),\n",
        "])\n",
        "\n",
        "# Load CIFAR-10 datasets\n",
        "cifar_train = datasets.CIFAR10(root='./data', train=True, download=True, transform=transform)\n",
        "cifar_valid = datasets.CIFAR10(root='./data', train=False, download=True, transform=transform)\n",
        "\n",
        "def generate_indices(dataset, pct_labelled=0.1):\n",
        "    num_samples = int(pct_labelled * len(dataset))\n",
        "    return torch.randperm(len(dataset))[:num_samples]\n",
        "\n",
        "# Define datasets for fully supervised learning\n",
        "\n",
        "# 10% of data labelled\n",
        "indices_10 = generate_indices(cifar_train, 0.1)\n",
        "full_dataset_10 = torch.utils.data.Subset(cifar_train, indices_10)\n",
        "full_loader_10 = DataLoader(full_dataset_10, batch_size=128, shuffle=True, num_workers=2)\n",
        "\n",
        "# 5% of data labelled\n",
        "indices_05 = generate_indices(cifar_train, 0.05)\n",
        "full_dataset_05 = torch.utils.data.Subset(cifar_train, indices_05)\n",
        "full_loader_05 = DataLoader(full_dataset_05, batch_size=128, shuffle=True, num_workers=2)\n",
        "\n",
        "# 25% of data labelled\n",
        "indices_25 = generate_indices(cifar_train, 0.25)\n",
        "full_dataset_25 = torch.utils.data.Subset(cifar_train, indices_25)\n",
        "full_loader_25 = DataLoader(full_dataset_25, batch_size=128, shuffle=True, num_workers=2)\n",
        "\n",
        "loader_valid = DataLoader(cifar_valid, batch_size=128, shuffle=False, num_workers=2)"
      ]
    },
    {
      "cell_type": "code",
      "execution_count": 4,
      "metadata": {
        "id": "kShKg8NvDKeM"
      },
      "outputs": [],
      "source": [
        "class Model(nn.Module):\n",
        "    def __init__(self):\n",
        "        super(Model, self).__init__()\n",
        "        self.model = torchvision.models.resnet18(weights=ResNet18_Weights.IMAGENET1K_V1) # initialize weights to make training easier (via transfer learning)\n",
        "        self.model.fc = nn.Identity()\n",
        "        self.fc = nn.Linear(512, 10)\n",
        "\n",
        "    def forward(self, x):\n",
        "        features = self.model(x)\n",
        "        x = self.fc(features)\n",
        "        return x, features"
      ]
    },
    {
      "cell_type": "markdown",
      "metadata": {
        "id": "m6ZDSXBMESb1"
      },
      "source": [
        "# Supervised learning\n",
        "\n",
        "We want to see how well we can do without using the unlabelled data points at all, with a simple supervised model only on that subset of data. This will be the baseline against which we will compare. As stated earlier, we will do this with subsets of labelled data comprising 1%, 5%, and 10% of the data."
      ]
    },
    {
      "cell_type": "code",
      "execution_count": null,
      "metadata": {
        "colab": {
          "base_uri": "https://localhost:8080/"
        },
        "id": "_Bs9Uabhy6nV",
        "outputId": "9f2f7f10-9d4b-4a6b-ef4a-00684e32c40a"
      },
      "outputs": [
        {
          "name": "stderr",
          "output_type": "stream",
          "text": [
            "\r  0%|          | 0/98 [00:00<?, ?it/s]/usr/lib/python3.10/multiprocessing/popen_fork.py:66: RuntimeWarning: os.fork() was called. os.fork() is incompatible with multithreaded code, and JAX is multithreaded, so this will likely lead to a deadlock.\n",
            "  self.pid = os.fork()\n",
            "100%|██████████| 98/98 [00:39<00:00,  2.50it/s]\n"
          ]
        },
        {
          "name": "stdout",
          "output_type": "stream",
          "text": [
            "25% labelled -- Epoch 1/5, Loss: 0.7079\n"
          ]
        },
        {
          "name": "stderr",
          "output_type": "stream",
          "text": [
            "100%|██████████| 98/98 [00:39<00:00,  2.47it/s]\n"
          ]
        },
        {
          "name": "stdout",
          "output_type": "stream",
          "text": [
            "25% labelled -- Epoch 2/5, Loss: 0.4516\n"
          ]
        },
        {
          "name": "stderr",
          "output_type": "stream",
          "text": [
            "100%|██████████| 98/98 [00:44<00:00,  2.21it/s]\n"
          ]
        },
        {
          "name": "stdout",
          "output_type": "stream",
          "text": [
            "25% labelled -- Epoch 3/5, Loss: 0.3191\n"
          ]
        },
        {
          "name": "stderr",
          "output_type": "stream",
          "text": [
            "100%|██████████| 98/98 [00:44<00:00,  2.19it/s]\n"
          ]
        },
        {
          "name": "stdout",
          "output_type": "stream",
          "text": [
            "25% labelled -- Epoch 4/5, Loss: 0.2583\n"
          ]
        },
        {
          "name": "stderr",
          "output_type": "stream",
          "text": [
            "100%|██████████| 98/98 [00:39<00:00,  2.45it/s]\n"
          ]
        },
        {
          "name": "stdout",
          "output_type": "stream",
          "text": [
            "25% labelled -- Epoch 5/5, Loss: 0.1470\n"
          ]
        },
        {
          "name": "stderr",
          "output_type": "stream",
          "text": [
            "100%|██████████| 20/20 [00:07<00:00,  2.51it/s]\n"
          ]
        },
        {
          "name": "stdout",
          "output_type": "stream",
          "text": [
            "5% labelled -- Epoch 1/5, Loss: 1.9391\n"
          ]
        },
        {
          "name": "stderr",
          "output_type": "stream",
          "text": [
            "100%|██████████| 20/20 [00:07<00:00,  2.50it/s]\n"
          ]
        },
        {
          "name": "stdout",
          "output_type": "stream",
          "text": [
            "5% labelled -- Epoch 2/5, Loss: 1.4959\n"
          ]
        },
        {
          "name": "stderr",
          "output_type": "stream",
          "text": [
            "100%|██████████| 20/20 [00:08<00:00,  2.30it/s]\n"
          ]
        },
        {
          "name": "stdout",
          "output_type": "stream",
          "text": [
            "5% labelled -- Epoch 3/5, Loss: 1.0096\n"
          ]
        },
        {
          "name": "stderr",
          "output_type": "stream",
          "text": [
            "100%|██████████| 20/20 [00:08<00:00,  2.41it/s]\n"
          ]
        },
        {
          "name": "stdout",
          "output_type": "stream",
          "text": [
            "5% labelled -- Epoch 4/5, Loss: 0.7878\n"
          ]
        },
        {
          "name": "stderr",
          "output_type": "stream",
          "text": [
            "100%|██████████| 20/20 [00:07<00:00,  2.50it/s]\n"
          ]
        },
        {
          "name": "stdout",
          "output_type": "stream",
          "text": [
            "5% labelled -- Epoch 5/5, Loss: 0.5180\n"
          ]
        },
        {
          "name": "stderr",
          "output_type": "stream",
          "text": [
            "100%|██████████| 40/40 [00:15<00:00,  2.60it/s]\n"
          ]
        },
        {
          "name": "stdout",
          "output_type": "stream",
          "text": [
            "10% labelled -- Epoch 1/5, Loss: 1.4469\n"
          ]
        },
        {
          "name": "stderr",
          "output_type": "stream",
          "text": [
            "100%|██████████| 40/40 [00:15<00:00,  2.58it/s]\n"
          ]
        },
        {
          "name": "stdout",
          "output_type": "stream",
          "text": [
            "10% labelled -- Epoch 2/5, Loss: 0.7835\n"
          ]
        },
        {
          "name": "stderr",
          "output_type": "stream",
          "text": [
            "100%|██████████| 40/40 [00:15<00:00,  2.62it/s]\n"
          ]
        },
        {
          "name": "stdout",
          "output_type": "stream",
          "text": [
            "10% labelled -- Epoch 3/5, Loss: 1.2853\n"
          ]
        },
        {
          "name": "stderr",
          "output_type": "stream",
          "text": [
            "100%|██████████| 40/40 [00:15<00:00,  2.61it/s]\n"
          ]
        },
        {
          "name": "stdout",
          "output_type": "stream",
          "text": [
            "10% labelled -- Epoch 4/5, Loss: 1.1441\n"
          ]
        },
        {
          "name": "stderr",
          "output_type": "stream",
          "text": [
            "100%|██████████| 40/40 [00:15<00:00,  2.62it/s]"
          ]
        },
        {
          "name": "stdout",
          "output_type": "stream",
          "text": [
            "10% labelled -- Epoch 5/5, Loss: 0.8316\n"
          ]
        },
        {
          "name": "stderr",
          "output_type": "stream",
          "text": [
            "\n"
          ]
        }
      ],
      "source": [
        "device = torch.device(\"cuda:0\" if torch.cuda.is_available() else \"cpu\")\n",
        "\n",
        "\n",
        "models = [Model() for i in range(3)]\n",
        "names = [\"25% labelled\", \"5% labelled\", \"10% labelled\"]\n",
        "data_loaders = [full_loader_25, full_loader_05, full_loader_10]\n",
        "losses = [[] for i in range(3)]\n",
        "\n",
        "for model_idx in range(3):\n",
        "    criterion = nn.CrossEntropyLoss()\n",
        "\n",
        "    full_model = models[model_idx]\n",
        "\n",
        "    full_model.train()\n",
        "    full_model.to(device)\n",
        "\n",
        "    optimizer = torch.optim.SGD(full_model.parameters(), lr=0.001, momentum=0.9)\n",
        "    num_epochs = 5\n",
        "\n",
        "    for epoch in range(num_epochs):\n",
        "        for i, (images, labels) in enumerate(tqdm(data_loaders[model_idx])):\n",
        "            images = images.to(device)\n",
        "            labels = labels.to(device)\n",
        "\n",
        "            # Forward pass\n",
        "            outputs, features = full_model(images)\n",
        "\n",
        "            loss = criterion(outputs, labels)\n",
        "            losses[model_idx].append(loss.item())\n",
        "\n",
        "            # Backward pass\n",
        "            optimizer.zero_grad()\n",
        "            loss.backward()\n",
        "            optimizer.step()\n",
        "\n",
        "        # Print statistics\n",
        "        print(f\"{names[model_idx]} -- Epoch {epoch+1}/{num_epochs}, Loss: {loss.item():.4f}\")\n",
        "\n"
      ]
    },
    {
      "cell_type": "code",
      "execution_count": null,
      "metadata": {
        "colab": {
          "base_uri": "https://localhost:8080/",
          "height": 361
        },
        "id": "jfgDjb6GBKZp",
        "outputId": "e9aaf161-efc3-4dcb-e95b-02ec3ce5d525"
      },
      "outputs": [
        {
          "data": {
            "text/plain": [
              "Text(0.5, 1.0, 'Supervised training loss- 10%')"
            ]
          },
          "execution_count": 33,
          "metadata": {},
          "output_type": "execute_result"
        },
        {
          "data": {
            "image/png": "[encoded data removed]",
            "text/plain": [
              "<Figure size 1500x400 with 3 Axes>"
            ]
          },
          "metadata": {},
          "output_type": "display_data"
        }
      ],
      "source": [
        "fig = plt.figure(figsize=(15,4))\n",
        "\n",
        "plt.subplot(133)\n",
        "plt.plot(losses[0], label=names[0])\n",
        "plt.title('Supervised training loss- 25%')\n",
        "plt.subplot(131)\n",
        "plt.plot(losses[1], label=names[1])\n",
        "plt.title('Supervised training loss- 5%')\n",
        "\n",
        "plt.subplot(132)\n",
        "plt.plot(losses[2], label=names[2])\n",
        "plt.title('Supervised training loss- 10%')\n"
      ]
    },
    {
      "cell_type": "code",
      "execution_count": 13,
      "metadata": {
        "id": "MaUUEa56T5AP"
      },
      "outputs": [],
      "source": [
        "# Returns fraction of correct predictions of the model on the given dataset\n",
        "def evaluate_model(model, data_loader):\n",
        "    model.eval()\n",
        "    model.to(device)\n",
        "    correct = 0\n",
        "    total = 0\n",
        "    with torch.no_grad():\n",
        "        for images, labels in data_loader:\n",
        "            images = images.to(device)\n",
        "            labels = labels.to(device)\n",
        "\n",
        "            outputs, _ = model(images)\n",
        "            _, predicted = torch.max(outputs.data, 1)\n",
        "\n",
        "            total += labels.size(0)\n",
        "            correct += (predicted == labels).sum().item()\n",
        "    return correct / total"
      ]
    },
    {
      "cell_type": "code",
      "execution_count": null,
      "metadata": {
        "colab": {
          "base_uri": "https://localhost:8080/"
        },
        "id": "ugsr8pVI8Kfr",
        "outputId": "41f48c09-1f6c-4b6d-8386-00b4249c0ba5"
      },
      "outputs": [
        {
          "name": "stderr",
          "output_type": "stream",
          "text": [
            "/usr/lib/python3.10/multiprocessing/popen_fork.py:66: RuntimeWarning: os.fork() was called. os.fork() is incompatible with multithreaded code, and JAX is multithreaded, so this will likely lead to a deadlock.\n",
            "  self.pid = os.fork()\n"
          ]
        },
        {
          "name": "stdout",
          "output_type": "stream",
          "text": [
            "Accuracy of the supervised model trained on 25% labelled of labels: 89.03999999999999 %\n",
            "Accuracy of the supervised model trained on 5% labelled of labels: 73.89 %\n",
            "Accuracy of the supervised model trained on 10% labelled of labels: 83.21 %\n"
          ]
        }
      ],
      "source": [
        "# Evaluate the models\n",
        "for model_idx in range(3):\n",
        "    pct_correct_supervised_trained = 100 * evaluate_model(models[model_idx], loader_valid)\n",
        "    print(f\"Accuracy of the supervised model trained on {names[model_idx]} of labels: {pct_correct_supervised_trained} %\")\n"
      ]
    },
    {
      "cell_type": "markdown",
      "metadata": {
        "id": "G1hWsMNx7uZI"
      },
      "source": [
        "Of course, we expect an untrained model to be right around 10% of the time, as there are 10 classes."
      ]
    },
    {
      "cell_type": "code",
      "execution_count": null,
      "metadata": {
        "colab": {
          "base_uri": "https://localhost:8080/"
        },
        "id": "_C0hWRf58_2L",
        "outputId": "303624fb-b143-474e-b71d-5d74fbe555e1"
      },
      "outputs": [
        {
          "name": "stdout",
          "output_type": "stream",
          "text": [
            "Accuracy of an untrained model : 10 %\n"
          ]
        }
      ],
      "source": [
        "# Compared to untrained model\n",
        "\n",
        "untrained_model = Model()\n",
        "untrained_model.eval()\n",
        "untrained_model.to(device)\n",
        "\n",
        "# Evaluate the model\n",
        "correct = 0\n",
        "total = 0\n",
        "with torch.no_grad():\n",
        "    for images, labels in loader_valid:\n",
        "        images = images.to(device)\n",
        "        labels = labels.to(device)\n",
        "\n",
        "        outputs, _ = untrained_model(images)\n",
        "        _, predicted = torch.max(outputs.data, 1)\n",
        "\n",
        "        total += labels.size(0)\n",
        "        correct += (predicted == labels).sum().item()\n",
        "\n",
        "print('Accuracy of an untrained model : %d %%' % (100 * correct / total))\n"
      ]
    },
    {
      "cell_type": "markdown",
      "metadata": {
        "id": "3Gtb3vj4Egj2"
      },
      "source": [
        "# Semi-supervised learning"
      ]
    },
    {
      "cell_type": "code",
      "execution_count": 5,
      "metadata": {
        "id": "8q4EVfFCcqX1"
      },
      "outputs": [],
      "source": [
        "# Custom dataset for semi-supervised learning\n",
        "class SemiSupervised(torch.utils.data.Dataset):\n",
        "    def __init__(self, labeled_dataset, indices):\n",
        "        self.labeled_dataset = labeled_dataset\n",
        "        self.labeled_indices = indices\n",
        "\n",
        "    def __getitem__(self, index):\n",
        "        if index in self.labeled_indices:\n",
        "            return self.labeled_dataset[index]\n",
        "        else:\n",
        "            img, label = self.labeled_dataset[index]\n",
        "            return img, UNLABELLED\n",
        "\n",
        "    def __len__(self):\n",
        "        return len(self.labeled_dataset)\n",
        "\n",
        "# Create semi-supervised datasets\n",
        "semi_dataset_10 = SemiSupervised(\n",
        "    labeled_dataset=cifar_train,\n",
        "    indices=indices_10\n",
        ")\n",
        "\n",
        "semi_dataset_05 = SemiSupervised(\n",
        "    labeled_dataset=cifar_train,\n",
        "    indices=indices_05\n",
        ")\n",
        "\n",
        "semi_dataset_25 = SemiSupervised(\n",
        "    labeled_dataset=cifar_train,\n",
        "    indices=indices_25\n",
        ")\n",
        "\n",
        "semi_loader_10 = DataLoader(semi_dataset_10, batch_size=128, shuffle=True, num_workers=2)\n",
        "semi_loader_05 = DataLoader(semi_dataset_05, batch_size=128, shuffle=True, num_workers=2)\n",
        "semi_loader_25 = DataLoader(semi_dataset_25, batch_size=128, shuffle=True, num_workers=2)"
      ]
    },
    {
      "cell_type": "code",
      "execution_count": 6,
      "metadata": {
        "id": "EByz4Mg9Udzz"
      },
      "outputs": [],
      "source": [
        "# non-parametric softmax operation by Wu et. al.\n",
        "# axis 0: v, axis 1: i\n",
        "def PIV(features, temp):\n",
        "  upper = torch.exp(torch.matmul(features, features.T) / temp)\n",
        "  denom = upper.sum(axis=1)\n",
        "  return upper / denom\n",
        "\n",
        "def weighted_knn(features, labels, k, temp):\n",
        "  # Calculate the distances between each pair of points\n",
        "    mask = torch.where(labels == UNLABELLED)\n",
        "    unlabelled_features = (features[mask])\n",
        "    labelled_features = features[labels != UNLABELLED]\n",
        "    only_labels = labels[labels != UNLABELLED]\n",
        "\n",
        "    distances = torch.cdist(unlabelled_features, labelled_features, p=2)\n",
        "\n",
        "    # Find the k nearest neighbors for each point in x\n",
        "    _, indices = torch.topk(distances, k=min(k, len(only_labels)), largest=False)\n",
        "\n",
        "    piv = PIV(features, temp)\n",
        "\n",
        "    weights = torch.zeros((len(mask[0]), 10))\n",
        "    weights = weights.to(device)\n",
        "\n",
        "    for i, idxs in enumerate(indices):\n",
        "      v = mask[0][i]\n",
        "      for j in idxs:\n",
        "        weights[i][only_labels[j]] += piv[v, j]\n",
        "\n",
        "    probs = weights / weights.sum(axis=1)[:, None]\n",
        "\n",
        "    pseudo_confidence, pseudo_labels = probs.max(axis=1)\n",
        "\n",
        "    pseudo_labels = pseudo_labels.to(device)\n",
        "    pseudo_confidence = pseudo_confidence.to(device)\n",
        "\n",
        "    new_labels = labels.clone()\n",
        "    new_labels[mask] = pseudo_labels\n",
        "\n",
        "    confidence = torch.ones_like(labels, dtype=pseudo_confidence.dtype)\n",
        "    confidence[mask] = pseudo_confidence\n",
        "\n",
        "    return new_labels, confidence\n",
        "\n"
      ]
    },
    {
      "cell_type": "code",
      "execution_count": 7,
      "metadata": {
        "id": "txWX7c4qvuPj"
      },
      "outputs": [],
      "source": [
        "class KMeansClusteringLoss(torch.nn.Module):\n",
        "    def __init__(self):\n",
        "        super(KMeansClusteringLoss, self).__init__()\n",
        "\n",
        "    def forward(self, features, centroids):\n",
        "        n = features.shape[0]\n",
        "        d = features.shape[1]\n",
        "        k = centroids.shape[0]\n",
        "\n",
        "        z = features.reshape(n, 1, d)\n",
        "        z = z.repeat(1, k, 1)\n",
        "\n",
        "        mu = centroids.reshape(1, k, d)\n",
        "        mu = mu.repeat(n, 1, 1)\n",
        "\n",
        "        dist = (z - mu).norm(2, dim=2).reshape((n, k))\n",
        "        loss = (dist.min(dim=1)[0] ** 2)\n",
        "\n",
        "        return loss"
      ]
    },
    {
      "cell_type": "markdown",
      "source": [
        "## Weighted k-nearest neighbors - 10% of labels"
      ],
      "metadata": {
        "id": "7nkjzyYQt7-n"
      }
    },
    {
      "cell_type": "code",
      "execution_count": null,
      "metadata": {
        "colab": {
          "base_uri": "https://localhost:8080/"
        },
        "id": "h5dyf4jtEm5T",
        "outputId": "c863f47b-acf6-400d-ac53-fa099e87fd6a"
      },
      "outputs": [
        {
          "name": "stderr",
          "output_type": "stream",
          "text": [
            "\r  0%|          | 0/391 [00:00<?, ?it/s]/usr/lib/python3.10/multiprocessing/popen_fork.py:66: RuntimeWarning: os.fork() was called. os.fork() is incompatible with multithreaded code, and JAX is multithreaded, so this will likely lead to a deadlock.\n",
            "  self.pid = os.fork()\n",
            "100%|██████████| 391/391 [05:31<00:00,  1.18it/s]\n"
          ]
        },
        {
          "name": "stdout",
          "output_type": "stream",
          "text": [
            "Epoch 1/10, Loss: 1.7275\n"
          ]
        },
        {
          "name": "stderr",
          "output_type": "stream",
          "text": [
            "\r  0%|          | 0/391 [00:00<?, ?it/s]/usr/lib/python3.10/multiprocessing/popen_fork.py:66: RuntimeWarning: os.fork() was called. os.fork() is incompatible with multithreaded code, and JAX is multithreaded, so this will likely lead to a deadlock.\n",
            "  self.pid = os.fork()\n",
            "100%|██████████| 391/391 [05:43<00:00,  1.38it/s]/usr/lib/python3.10/multiprocessing/popen_fork.py:66: RuntimeWarning: os.fork() was called. os.fork() is incompatible with multithreaded code, and JAX is multithreaded, so this will likely lead to a deadlock.\n",
            "  self.pid = os.fork()\n",
            "100%|██████████| 391/391 [05:44<00:00,  1.14it/s]\n"
          ]
        },
        {
          "name": "stdout",
          "output_type": "stream",
          "text": [
            "Epoch 2/10, Loss: 1.0891\n"
          ]
        },
        {
          "name": "stderr",
          "output_type": "stream",
          "text": [
            "\r  0%|          | 0/391 [00:00<?, ?it/s]/usr/lib/python3.10/multiprocessing/popen_fork.py:66: RuntimeWarning: os.fork() was called. os.fork() is incompatible with multithreaded code, and JAX is multithreaded, so this will likely lead to a deadlock.\n",
            "  self.pid = os.fork()\n",
            "100%|██████████| 391/391 [06:16<00:00,  1.04it/s]\n"
          ]
        },
        {
          "name": "stdout",
          "output_type": "stream",
          "text": [
            "Epoch 3/10, Loss: 1.0643\n"
          ]
        },
        {
          "name": "stderr",
          "output_type": "stream",
          "text": [
            "\r  0%|          | 0/391 [00:00<?, ?it/s]/usr/lib/python3.10/multiprocessing/popen_fork.py:66: RuntimeWarning: os.fork() was called. os.fork() is incompatible with multithreaded code, and JAX is multithreaded, so this will likely lead to a deadlock.\n",
            "  self.pid = os.fork()\n",
            "100%|██████████| 391/391 [05:52<00:00,  1.11it/s]\n"
          ]
        },
        {
          "name": "stdout",
          "output_type": "stream",
          "text": [
            "Epoch 4/10, Loss: 0.9818\n"
          ]
        },
        {
          "name": "stderr",
          "output_type": "stream",
          "text": [
            "\r  0%|          | 0/391 [00:00<?, ?it/s]/usr/lib/python3.10/multiprocessing/popen_fork.py:66: RuntimeWarning: os.fork() was called. os.fork() is incompatible with multithreaded code, and JAX is multithreaded, so this will likely lead to a deadlock.\n",
            "  self.pid = os.fork()\n",
            "100%|██████████| 391/391 [06:08<00:00,  1.32it/s]/usr/lib/python3.10/multiprocessing/popen_fork.py:66: RuntimeWarning: os.fork() was called. os.fork() is incompatible with multithreaded code, and JAX is multithreaded, so this will likely lead to a deadlock.\n",
            "  self.pid = os.fork()\n",
            "100%|██████████| 391/391 [06:08<00:00,  1.06it/s]"
          ]
        },
        {
          "name": "stdout",
          "output_type": "stream",
          "text": [
            "Epoch 5/10, Loss: 0.7887\n"
          ]
        },
        {
          "name": "stderr",
          "output_type": "stream",
          "text": [
            "\n"
          ]
        }
      ],
      "source": [
        "criterion = nn.CrossEntropyLoss(reduction='none')\n",
        "clustering_criterion = KMeansClusteringLoss()\n",
        "\n",
        "semi_model_10 = Model()\n",
        "\n",
        "semi_model_10.train()\n",
        "semi_model_10.to(device)\n",
        "\n",
        "optimizer = torch.optim.SGD(semi_model_10.parameters(), lr=0.0001, momentum=0.9)\n",
        "ALPHA = 0.01 # hyper parameter controlling weight of cluster loss\n",
        "NUM_EPOCHS = 5\n",
        "K = 10\n",
        "TEMP = 25\n",
        "\n",
        "losses = []\n",
        "\n",
        "for epoch in range(NUM_EPOCHS):\n",
        "    for i, (images, labels) in enumerate(tqdm(semi_loader_10)):\n",
        "        images = images.to(device)\n",
        "        labels = labels.to(device)\n",
        "\n",
        "        # Forward pass\n",
        "        outputs, features = semi_model_10(images)\n",
        "\n",
        "        # pseudo-labelling\n",
        "        pseudo_labels, confidence = weighted_knn(features, labels, K, TEMP)\n",
        "\n",
        "        # loss calculation\n",
        "        centroids = KMeans(n_clusters=10, n_init=10).fit(features.cpu().detach().numpy()).cluster_centers_\n",
        "        centroids = torch.tensor(centroids).to(device)\n",
        "        cluster_loss = ALPHA * clustering_criterion(features, centroids)\n",
        "\n",
        "        # print('CLUSTER LOSS: ', cluster_loss.mean().item())\n",
        "\n",
        "        ce_loss = criterion(outputs, pseudo_labels)\n",
        "\n",
        "        # print('CE LOSS: ', ce_loss.mean().item())\n",
        "\n",
        "        loss = (confidence * (ce_loss + cluster_loss)).mean()\n",
        "        losses.append(loss.item())\n",
        "\n",
        "        # Backward pass\n",
        "\n",
        "        optimizer.zero_grad()\n",
        "        loss.backward()\n",
        "        optimizer.step()\n",
        "\n",
        "    # Print statistics\n",
        "    print(f\"Epoch {epoch+1}/{NUM_EPOCHS}, Loss: {loss.item():.4f}\")\n",
        "\n"
      ]
    },
    {
      "cell_type": "code",
      "execution_count": null,
      "metadata": {
        "colab": {
          "base_uri": "https://localhost:8080/",
          "height": 472
        },
        "id": "tffQpBjyF2hM",
        "outputId": "23bb786f-9984-4311-e805-394f12af601b"
      },
      "outputs": [
        {
          "data": {
            "image/png": "[encoded data removed]",
            "text/plain": [
              "<Figure size 640x480 with 1 Axes>"
            ]
          },
          "metadata": {},
          "output_type": "display_data"
        }
      ],
      "source": [
        "plt.plot(losses)\n",
        "plt.title('Semi-supervised training loss')\n",
        "plt.ylabel('Loss')\n",
        "plt.xlabel('Iteration')\n",
        "plt.show()\n"
      ]
    },
    {
      "cell_type": "code",
      "execution_count": null,
      "metadata": {
        "colab": {
          "base_uri": "https://localhost:8080/"
        },
        "id": "Qqzp8lUQefmH",
        "outputId": "e1e9e764-6b3d-4b5f-c1d4-f9b0672f9302"
      },
      "outputs": [
        {
          "name": "stderr",
          "output_type": "stream",
          "text": [
            "/usr/lib/python3.10/multiprocessing/popen_fork.py:66: RuntimeWarning: os.fork() was called. os.fork() is incompatible with multithreaded code, and JAX is multithreaded, so this will likely lead to a deadlock.\n",
            "  self.pid = os.fork()\n"
          ]
        },
        {
          "name": "stdout",
          "output_type": "stream",
          "text": [
            "Accuracy of the semi-supervised trained model: 17 %\n"
          ]
        }
      ],
      "source": [
        "# Evaluate the model\n",
        "semi_model_10.eval()\n",
        "correct = 0\n",
        "total = 0\n",
        "with torch.no_grad():\n",
        "    for images, labels in loader_valid:\n",
        "        images = images.to(device)\n",
        "        labels = labels.to(device)\n",
        "\n",
        "        outputs, _ = semi_model_10(images)\n",
        "        _, predicted = torch.max(outputs.data, 1)\n",
        "\n",
        "        total += labels.size(0)\n",
        "        correct += (predicted == labels).sum().item()\n",
        "\n",
        "print('Accuracy of the semi-supervised trained model: %d %%' % (100 * correct / total))\n"
      ]
    },
    {
      "cell_type": "markdown",
      "source": [
        "## Local Label Propagation"
      ],
      "metadata": {
        "id": "i40ajWbvuWRo"
      }
    },
    {
      "cell_type": "code",
      "execution_count": 8,
      "metadata": {
        "id": "1V29ikzZTuzk"
      },
      "outputs": [],
      "source": [
        "def LLP_pv(features, labels, k, T, temp, num_labels=10):\n",
        "    # Calculate the distances between each pair of points\n",
        "    mask = torch.where(labels == UNLABELLED)\n",
        "    unlabelled_features = (features[mask])\n",
        "    labelled_features = features[labels != UNLABELLED]\n",
        "    only_labels = labels[labels != UNLABELLED]\n",
        "\n",
        "    distances = torch.cdist(unlabelled_features, labelled_features, p=2)\n",
        "\n",
        "    piv = PIV(features, temp)\n",
        "\n",
        "    weights = torch.zeros((len(mask[0]), num_labels)).to(device)\n",
        "\n",
        "    rho = torch.zeros(len(unlabelled_features), device=device)\n",
        "    _, T_nearest_indices = torch.topk(distances, k=min(max(T, K), len(only_labels)), largest=False)\n",
        "\n",
        "    for vi, tn_to_v_idxs in enumerate(T_nearest_indices):\n",
        "        for j in tn_to_v_idxs:\n",
        "          rho[vi] += piv[vi, j]\n",
        "\n",
        "    for v, v_indices in enumerate(T_nearest_indices[:, :min(K, T_nearest_indices.shape[1])]):\n",
        "        for j in v_indices:\n",
        "            weights[v][only_labels[j]] += piv[v, j] / rho[v]\n",
        "\n",
        "    probs = weights / weights.sum(axis=1)[:, None]\n",
        "    numerator = torch.exp(weights)\n",
        "    denominator = torch.sum(numerator, axis=1)\n",
        "    probs = (numerator.T / denominator).T\n",
        "\n",
        "    pseudo_confidence, pseudo_labels = probs.max(axis=1)\n",
        "\n",
        "    pseudo_labels = pseudo_labels.to(device)\n",
        "    pseudo_confidence = pseudo_confidence.to(device)\n",
        "\n",
        "    new_labels = labels.clone()\n",
        "    new_labels[mask] = pseudo_labels\n",
        "\n",
        "    confidence = torch.ones_like(labels, dtype=pseudo_confidence.dtype)\n",
        "    confidence[mask] = pseudo_confidence\n",
        "\n",
        "    return new_labels, confidence"
      ]
    },
    {
      "cell_type": "markdown",
      "metadata": {
        "id": "0U0owWU9UHps"
      },
      "source": [
        "## LLP - 10% of labels\n"
      ]
    },
    {
      "cell_type": "code",
      "execution_count": null,
      "metadata": {
        "colab": {
          "base_uri": "https://localhost:8080/"
        },
        "id": "qOP-ktprXbiQ",
        "outputId": "df32ab79-1f00-441b-e338-bd235dfc1c61"
      },
      "outputs": [
        {
          "name": "stderr",
          "output_type": "stream",
          "text": [
            "\r  0%|          | 0/391 [00:00<?, ?it/s]/usr/lib/python3.10/multiprocessing/popen_fork.py:66: RuntimeWarning: os.fork() was called. os.fork() is incompatible with multithreaded code, and JAX is multithreaded, so this will likely lead to a deadlock.\n",
            "  self.pid = os.fork()\n",
            "100%|██████████| 391/391 [06:42<00:00,  1.03s/it]\n"
          ]
        },
        {
          "name": "stdout",
          "output_type": "stream",
          "text": [
            "Epoch 1/10, Loss: 1.5929\n"
          ]
        },
        {
          "name": "stderr",
          "output_type": "stream",
          "text": [
            "\r  0%|          | 0/391 [00:00<?, ?it/s]/usr/lib/python3.10/multiprocessing/popen_fork.py:66: RuntimeWarning: os.fork() was called. os.fork() is incompatible with multithreaded code, and JAX is multithreaded, so this will likely lead to a deadlock.\n",
            "  self.pid = os.fork()\n",
            "100%|██████████| 391/391 [06:33<00:00,  1.01s/it]\n"
          ]
        },
        {
          "name": "stdout",
          "output_type": "stream",
          "text": [
            "Epoch 2/10, Loss: 1.1152\n"
          ]
        },
        {
          "name": "stderr",
          "output_type": "stream",
          "text": [
            "\r  0%|          | 0/391 [00:00<?, ?it/s]/usr/lib/python3.10/multiprocessing/popen_fork.py:66: RuntimeWarning: os.fork() was called. os.fork() is incompatible with multithreaded code, and JAX is multithreaded, so this will likely lead to a deadlock.\n",
            "  self.pid = os.fork()\n",
            "100%|██████████| 391/391 [06:31<00:00,  1.14it/s]/usr/lib/python3.10/multiprocessing/popen_fork.py:66: RuntimeWarning: os.fork() was called. os.fork() is incompatible with multithreaded code, and JAX is multithreaded, so this will likely lead to a deadlock.\n",
            "  self.pid = os.fork()\n",
            "100%|██████████| 391/391 [06:31<00:00,  1.00s/it]\n"
          ]
        },
        {
          "name": "stdout",
          "output_type": "stream",
          "text": [
            "Epoch 3/10, Loss: 1.0282\n"
          ]
        },
        {
          "name": "stderr",
          "output_type": "stream",
          "text": [
            "\r  0%|          | 0/391 [00:00<?, ?it/s]/usr/lib/python3.10/multiprocessing/popen_fork.py:66: RuntimeWarning: os.fork() was called. os.fork() is incompatible with multithreaded code, and JAX is multithreaded, so this will likely lead to a deadlock.\n",
            "  self.pid = os.fork()\n",
            "100%|██████████| 391/391 [06:29<00:00,  1.00it/s]\n"
          ]
        },
        {
          "name": "stdout",
          "output_type": "stream",
          "text": [
            "Epoch 4/10, Loss: 1.0088\n"
          ]
        },
        {
          "name": "stderr",
          "output_type": "stream",
          "text": [
            "\r  0%|          | 0/391 [00:00<?, ?it/s]/usr/lib/python3.10/multiprocessing/popen_fork.py:66: RuntimeWarning: os.fork() was called. os.fork() is incompatible with multithreaded code, and JAX is multithreaded, so this will likely lead to a deadlock.\n",
            "  self.pid = os.fork()\n",
            "100%|██████████| 391/391 [06:47<00:00,  1.04s/it]"
          ]
        },
        {
          "name": "stdout",
          "output_type": "stream",
          "text": [
            "Epoch 5/10, Loss: 0.9850\n"
          ]
        },
        {
          "name": "stderr",
          "output_type": "stream",
          "text": [
            "\n"
          ]
        }
      ],
      "source": [
        "criterion = nn.CrossEntropyLoss(reduction='none')\n",
        "clustering_criterion = KMeansClusteringLoss()\n",
        "\n",
        "semi_model_10 = Model()\n",
        "\n",
        "semi_model_10.train()\n",
        "semi_model_10.to(device)\n",
        "\n",
        "optimizer = torch.optim.SGD(semi_model_10.parameters(), lr=0.0001, momentum=0.9)\n",
        "ALPHA = 0.0001 # hyper parameter controlling weight of cluster loss\n",
        "NUM_EPOCHS = 5\n",
        "K = 5\n",
        "T = 10\n",
        "TEMP = 50\n",
        "\n",
        "losses = []\n",
        "\n",
        "for epoch in range(NUM_EPOCHS):\n",
        "    for i, (images, labels) in enumerate(tqdm(semi_loader_10)):\n",
        "        images = images.to(device)\n",
        "        labels = labels.to(device)\n",
        "\n",
        "        # Forward pass\n",
        "        outputs, features = semi_model_10(images)\n",
        "\n",
        "        pseudo_labels, confidence = LLP_pv(features, labels, K, T, TEMP, 10)\n",
        "\n",
        "        features_without_nan = np.nan_to_num(features.cpu().detach().numpy(), 0)\n",
        "\n",
        "        # loss calculation\n",
        "        centroids = KMeans(n_clusters=10, n_init=10).fit(features_without_nan).cluster_centers_\n",
        "        centroids = torch.tensor(centroids).to(device)\n",
        "        cluster_loss = ALPHA * clustering_criterion(features, centroids)\n",
        "\n",
        "        ce_loss = criterion(outputs, pseudo_labels)\n",
        "\n",
        "        loss = (confidence * (ce_loss + cluster_loss)).mean()\n",
        "        losses.append(loss.item())\n",
        "\n",
        "        # Backward pass\n",
        "\n",
        "        optimizer.zero_grad()\n",
        "        loss.backward()\n",
        "        optimizer.step()\n",
        "\n",
        "    # Print statistics\n",
        "    print(f\"Epoch {epoch+1}/{10}, Loss: {loss.item():.4f}\")\n",
        "\n"
      ]
    },
    {
      "cell_type": "code",
      "execution_count": null,
      "metadata": {
        "colab": {
          "base_uri": "https://localhost:8080/",
          "height": 472
        },
        "id": "Q89zOplW2npw",
        "outputId": "edc0b7fd-b1b3-4790-9ff7-02a3c8e73f3d"
      },
      "outputs": [
        {
          "data": {
            "image/png": "[encoded data removed]",
            "text/plain": [
              "<Figure size 640x480 with 1 Axes>"
            ]
          },
          "metadata": {},
          "output_type": "display_data"
        }
      ],
      "source": [
        "plt.plot(losses)\n",
        "plt.title('Semi-supervised training loss')\n",
        "plt.ylabel('Loss')\n",
        "plt.xlabel('Iteration')\n",
        "plt.show()\n"
      ]
    },
    {
      "cell_type": "code",
      "execution_count": null,
      "metadata": {
        "id": "LETGIPue-q2z"
      },
      "outputs": [],
      "source": [
        "import pickle\n",
        "\n",
        "with open('model.pkl', 'wb') as f:\n",
        "    pickle.dump(semi_model_10, f)"
      ]
    },
    {
      "cell_type": "code",
      "execution_count": null,
      "metadata": {
        "colab": {
          "base_uri": "https://localhost:8080/"
        },
        "id": "a3gVvobm2cOV",
        "outputId": "f7bb2e2c-4c35-4f4f-8f6e-cf26bc0df546"
      },
      "outputs": [
        {
          "name": "stderr",
          "output_type": "stream",
          "text": [
            "/usr/lib/python3.10/multiprocessing/popen_fork.py:66: RuntimeWarning: os.fork() was called. os.fork() is incompatible with multithreaded code, and JAX is multithreaded, so this will likely lead to a deadlock.\n",
            "  self.pid = os.fork()\n"
          ]
        },
        {
          "name": "stdout",
          "output_type": "stream",
          "text": [
            "Accuracy of the supervised model trained on 10% of labels: 30.81 %\n"
          ]
        }
      ],
      "source": [
        "pct_correct_supervised_trained = 100 * evaluate_model(semi_model_10, loader_valid)\n",
        "print(f\"Accuracy of the supervised model trained on 10% of labels: {pct_correct_supervised_trained} %\")"
      ]
    },
    {
      "cell_type": "markdown",
      "source": [
        "## LLP - 5% of labels"
      ],
      "metadata": {
        "id": "lUQzx4FZtxf6"
      }
    },
    {
      "cell_type": "code",
      "execution_count": 9,
      "metadata": {
        "colab": {
          "base_uri": "https://localhost:8080/"
        },
        "id": "2d-r3ueSBLWT",
        "outputId": "36d7ed49-7f2d-4407-e34a-3b7b7acef9ce"
      },
      "outputs": [
        {
          "metadata": {
            "tags": null
          },
          "name": "stderr",
          "output_type": "stream",
          "text": [
            "Downloading: \"https://download.pytorch.org/models/resnet18-f37072fd.pth\" to /root/.cache/torch/hub/checkpoints/resnet18-f37072fd.pth\n",
            "100%|██████████| 44.7M/44.7M [00:00<00:00, 150MB/s]\n",
            "  0%|          | 0/391 [00:00<?, ?it/s]/usr/lib/python3.10/multiprocessing/popen_fork.py:66: RuntimeWarning: os.fork() was called. os.fork() is incompatible with multithreaded code, and JAX is multithreaded, so this will likely lead to a deadlock.\n",
            "  self.pid = os.fork()\n",
            "100%|██████████| 391/391 [06:28<00:00,  1.01it/s]\n"
          ]
        },
        {
          "metadata": {
            "tags": null
          },
          "name": "stdout",
          "output_type": "stream",
          "text": [
            "Epoch 1/10, Loss: 0.4910\n"
          ]
        },
        {
          "metadata": {
            "tags": null
          },
          "name": "stderr",
          "output_type": "stream",
          "text": [
            "  0%|          | 0/391 [00:00<?, ?it/s]/usr/lib/python3.10/multiprocessing/popen_fork.py:66: RuntimeWarning: os.fork() was called. os.fork() is incompatible with multithreaded code, and JAX is multithreaded, so this will likely lead to a deadlock.\n",
            "  self.pid = os.fork()\n",
            "100%|██████████| 391/391 [06:03<00:00,  1.23it/s]/usr/lib/python3.10/multiprocessing/popen_fork.py:66: RuntimeWarning: os.fork() was called. os.fork() is incompatible with multithreaded code, and JAX is multithreaded, so this will likely lead to a deadlock.\n",
            "  self.pid = os.fork()\n",
            "100%|██████████| 391/391 [06:03<00:00,  1.08it/s]\n"
          ]
        },
        {
          "metadata": {
            "tags": null
          },
          "name": "stdout",
          "output_type": "stream",
          "text": [
            "Epoch 2/10, Loss: 0.4712\n"
          ]
        },
        {
          "output_type": "stream",
          "name": "stderr",
          "text": [
            "  0%|          | 0/391 [00:00<?, ?it/s]/usr/lib/python3.10/multiprocessing/popen_fork.py:66: RuntimeWarning: os.fork() was called. os.fork() is incompatible with multithreaded code, and JAX is multithreaded, so this will likely lead to a deadlock.\n",
            "  self.pid = os.fork()\n",
            "100%|██████████| 391/391 [06:03<00:00,  1.27it/s]/usr/lib/python3.10/multiprocessing/popen_fork.py:66: RuntimeWarning: os.fork() was called. os.fork() is incompatible with multithreaded code, and JAX is multithreaded, so this will likely lead to a deadlock.\n",
            "  self.pid = os.fork()\n",
            "100%|██████████| 391/391 [06:03<00:00,  1.07it/s]\n"
          ]
        },
        {
          "output_type": "stream",
          "name": "stdout",
          "text": [
            "Epoch 3/10, Loss: 0.5358\n"
          ]
        },
        {
          "output_type": "stream",
          "name": "stderr",
          "text": [
            "\r  0%|          | 0/391 [00:00<?, ?it/s]/usr/lib/python3.10/multiprocessing/popen_fork.py:66: RuntimeWarning: os.fork() was called. os.fork() is incompatible with multithreaded code, and JAX is multithreaded, so this will likely lead to a deadlock.\n",
            "  self.pid = os.fork()\n",
            "100%|██████████| 391/391 [06:03<00:00,  1.32it/s]/usr/lib/python3.10/multiprocessing/popen_fork.py:66: RuntimeWarning: os.fork() was called. os.fork() is incompatible with multithreaded code, and JAX is multithreaded, so this will likely lead to a deadlock.\n",
            "  self.pid = os.fork()\n",
            "100%|██████████| 391/391 [06:03<00:00,  1.08it/s]\n"
          ]
        },
        {
          "output_type": "stream",
          "name": "stdout",
          "text": [
            "Epoch 4/10, Loss: 0.4634\n"
          ]
        },
        {
          "output_type": "stream",
          "name": "stderr",
          "text": [
            "\r  0%|          | 0/391 [00:00<?, ?it/s]/usr/lib/python3.10/multiprocessing/popen_fork.py:66: RuntimeWarning: os.fork() was called. os.fork() is incompatible with multithreaded code, and JAX is multithreaded, so this will likely lead to a deadlock.\n",
            "  self.pid = os.fork()\n",
            "100%|██████████| 391/391 [06:00<00:00,  1.08it/s]"
          ]
        },
        {
          "output_type": "stream",
          "name": "stdout",
          "text": [
            "Epoch 5/10, Loss: 0.5485\n"
          ]
        },
        {
          "output_type": "stream",
          "name": "stderr",
          "text": [
            "\n"
          ]
        }
      ],
      "source": [
        "criterion = nn.CrossEntropyLoss(reduction='none')\n",
        "clustering_criterion = KMeansClusteringLoss()\n",
        "\n",
        "semi_model_05 = Model()\n",
        "\n",
        "semi_model_05.train()\n",
        "semi_model_05.to(device)\n",
        "\n",
        "optimizer = torch.optim.SGD(semi_model_05.parameters(), lr=0.0001, momentum=0.9)\n",
        "ALPHA = 0.0001 # hyper parameter controlling weight of cluster loss\n",
        "NUM_EPOCHS = 5\n",
        "K = 5\n",
        "T = 10\n",
        "TEMP = 50\n",
        "\n",
        "losses = []\n",
        "\n",
        "for epoch in range(NUM_EPOCHS):\n",
        "    for i, (images, labels) in enumerate(tqdm(semi_loader_05)):\n",
        "        images = images.to(device)\n",
        "        labels = labels.to(device)\n",
        "\n",
        "        # Forward pass\n",
        "        outputs, features = semi_model_05(images)\n",
        "\n",
        "        # pseudo-labelling\n",
        "        pseudo_labels, confidence = LLP_pv(features, labels, K, T, TEMP, 10)\n",
        "\n",
        "        # loss calculation\n",
        "        centroids = KMeans(n_clusters=10, n_init=10).fit(features.cpu().detach().numpy()).cluster_centers_\n",
        "        centroids = torch.tensor(centroids).to(device)\n",
        "        cluster_loss = ALPHA * clustering_criterion(features, centroids)\n",
        "\n",
        "        ce_loss = criterion(outputs, pseudo_labels)\n",
        "\n",
        "        loss = (confidence * (ce_loss + cluster_loss)).mean()\n",
        "        losses.append(loss.item())\n",
        "\n",
        "        # Backward pass\n",
        "\n",
        "        optimizer.zero_grad()\n",
        "        loss.backward()\n",
        "        optimizer.step()\n",
        "\n",
        "    # Print statistics\n",
        "    print(f\"Epoch {epoch+1}/{10}, Loss: {loss.item():.4f}\")\n",
        "\n"
      ]
    },
    {
      "cell_type": "code",
      "source": [
        "plt.plot(losses)\n",
        "plt.title('Semi-supervised training loss - 5% labelled')\n",
        "plt.ylabel('Loss')\n",
        "plt.xlabel('Iteration')\n",
        "plt.show()"
      ],
      "metadata": {
        "colab": {
          "base_uri": "https://localhost:8080/",
          "height": 472
        },
        "id": "saQepJ7WtKPV",
        "outputId": "7b94a4be-2022-4276-8376-0b9cf1e78898"
      },
      "execution_count": 10,
      "outputs": [
        {
          "output_type": "display_data",
          "data": {
            "text/plain": [
              "<Figure size 640x480 with 1 Axes>"
            ],
            "image/png": "[encoded data removed]"
          },
          "metadata": {}
        }
      ]
    },
    {
      "cell_type": "markdown",
      "source": [
        "Note: this model started with a low loss likely by a mixture of low confidence and pure chance"
      ],
      "metadata": {
        "id": "lmh1rE0D_flu"
      }
    },
    {
      "cell_type": "code",
      "source": [
        "import pickle\n",
        "\n",
        "with open('semi_model_05.pkl', 'wb') as f:\n",
        "    pickle.dump(semi_model_05, f)"
      ],
      "metadata": {
        "id": "bV21QCR5N9gi"
      },
      "execution_count": 11,
      "outputs": []
    },
    {
      "cell_type": "code",
      "source": [
        "pct_correct_semi_05 = 100 * evaluate_model(semi_model_05, loader_valid)\n",
        "print(f\"Accuracy of the supervised model trained on 5% of labels: {pct_correct_semi_05} %\")"
      ],
      "metadata": {
        "colab": {
          "base_uri": "https://localhost:8080/"
        },
        "id": "egytLKzVOKjd",
        "outputId": "af1e64e2-dfdf-4394-bd2f-475db3ead20a"
      },
      "execution_count": 15,
      "outputs": [
        {
          "output_type": "stream",
          "name": "stdout",
          "text": [
            "Accuracy of the supervised model trained on 5% of labels: 29.9 %\n"
          ]
        }
      ]
    },
    {
      "cell_type": "markdown",
      "source": [
        "## LLP - 25% of labels"
      ],
      "metadata": {
        "id": "rSUzY9kVOLFj"
      }
    },
    {
      "cell_type": "code",
      "execution_count": 16,
      "metadata": {
        "id": "2mTqZd_yBoKC",
        "colab": {
          "base_uri": "https://localhost:8080/"
        },
        "outputId": "281f2346-642c-4906-9b32-128cd2db7ad5"
      },
      "outputs": [
        {
          "output_type": "stream",
          "name": "stderr",
          "text": [
            "100%|██████████| 391/391 [06:16<00:00,  1.04it/s]\n"
          ]
        },
        {
          "output_type": "stream",
          "name": "stdout",
          "text": [
            "Epoch 1/10, Loss: 0.7646\n"
          ]
        },
        {
          "output_type": "stream",
          "name": "stderr",
          "text": [
            "\r  0%|          | 0/391 [00:00<?, ?it/s]/usr/lib/python3.10/multiprocessing/popen_fork.py:66: RuntimeWarning: os.fork() was called. os.fork() is incompatible with multithreaded code, and JAX is multithreaded, so this will likely lead to a deadlock.\n",
            "  self.pid = os.fork()\n",
            "100%|██████████| 391/391 [06:13<00:00,  1.05it/s]\n"
          ]
        },
        {
          "output_type": "stream",
          "name": "stdout",
          "text": [
            "Epoch 2/10, Loss: 0.6616\n"
          ]
        },
        {
          "output_type": "stream",
          "name": "stderr",
          "text": [
            "\r  0%|          | 0/391 [00:00<?, ?it/s]/usr/lib/python3.10/multiprocessing/popen_fork.py:66: RuntimeWarning: os.fork() was called. os.fork() is incompatible with multithreaded code, and JAX is multithreaded, so this will likely lead to a deadlock.\n",
            "  self.pid = os.fork()\n",
            "100%|██████████| 391/391 [06:19<00:00,  1.03it/s]\n"
          ]
        },
        {
          "output_type": "stream",
          "name": "stdout",
          "text": [
            "Epoch 3/10, Loss: 0.6236\n"
          ]
        },
        {
          "output_type": "stream",
          "name": "stderr",
          "text": [
            "\r  0%|          | 0/391 [00:00<?, ?it/s]/usr/lib/python3.10/multiprocessing/popen_fork.py:66: RuntimeWarning: os.fork() was called. os.fork() is incompatible with multithreaded code, and JAX is multithreaded, so this will likely lead to a deadlock.\n",
            "  self.pid = os.fork()\n",
            "100%|██████████| 391/391 [07:10<00:00,  1.08it/s]/usr/lib/python3.10/multiprocessing/popen_fork.py:66: RuntimeWarning: os.fork() was called. os.fork() is incompatible with multithreaded code, and JAX is multithreaded, so this will likely lead to a deadlock.\n",
            "  self.pid = os.fork()\n",
            "100%|██████████| 391/391 [07:10<00:00,  1.10s/it]\n"
          ]
        },
        {
          "output_type": "stream",
          "name": "stdout",
          "text": [
            "Epoch 4/10, Loss: 0.5866\n"
          ]
        },
        {
          "output_type": "stream",
          "name": "stderr",
          "text": [
            "\r  0%|          | 0/391 [00:00<?, ?it/s]/usr/lib/python3.10/multiprocessing/popen_fork.py:66: RuntimeWarning: os.fork() was called. os.fork() is incompatible with multithreaded code, and JAX is multithreaded, so this will likely lead to a deadlock.\n",
            "  self.pid = os.fork()\n",
            "100%|██████████| 391/391 [07:27<00:00,  1.15s/it]"
          ]
        },
        {
          "output_type": "stream",
          "name": "stdout",
          "text": [
            "Epoch 5/10, Loss: 0.5042\n"
          ]
        },
        {
          "output_type": "stream",
          "name": "stderr",
          "text": [
            "\n"
          ]
        }
      ],
      "source": [
        "criterion = nn.CrossEntropyLoss(reduction='none')\n",
        "clustering_criterion = KMeansClusteringLoss()\n",
        "\n",
        "semi_model_25 = Model()\n",
        "\n",
        "semi_model_25.train()\n",
        "semi_model_25.to(device)\n",
        "\n",
        "optimizer = torch.optim.SGD(semi_model_25.parameters(), lr=0.0001, momentum=0.9)\n",
        "ALPHA = 0.0001 # hyper parameter controlling weight of cluster loss\n",
        "NUM_EPOCHS = 5\n",
        "K = 5\n",
        "T = 10\n",
        "TEMP = 50\n",
        "\n",
        "losses = []\n",
        "\n",
        "for epoch in range(NUM_EPOCHS):\n",
        "    for i, (images, labels) in enumerate(tqdm(semi_loader_25)):\n",
        "        images = images.to(device)\n",
        "        labels = labels.to(device)\n",
        "\n",
        "        # Forward pass\n",
        "        outputs, features = semi_model_25(images)\n",
        "\n",
        "        # pseudo-labelling\n",
        "        pseudo_labels, confidence = LLP_pv(features, labels, K, T, TEMP, 10)\n",
        "\n",
        "        # loss calculation\n",
        "        centroids = KMeans(n_clusters=10, n_init=10).fit(features.cpu().detach().numpy()).cluster_centers_\n",
        "        centroids = torch.tensor(centroids).to(device)\n",
        "        cluster_loss = ALPHA * clustering_criterion(features, centroids)\n",
        "\n",
        "        ce_loss = criterion(outputs, pseudo_labels)\n",
        "\n",
        "        loss = (confidence * (ce_loss + cluster_loss)).mean()\n",
        "        losses.append(loss.item())\n",
        "\n",
        "        # Backward pass\n",
        "\n",
        "        optimizer.zero_grad()\n",
        "        loss.backward()\n",
        "        optimizer.step()\n",
        "\n",
        "    # Print statistics\n",
        "    print(f\"Epoch {epoch+1}/{10}, Loss: {loss.item():.4f}\")\n",
        "\n"
      ]
    },
    {
      "cell_type": "code",
      "source": [
        "plt.plot(losses)\n",
        "plt.title('Semi-supervised training loss - 25% labelled')\n",
        "plt.ylabel('Loss')\n",
        "plt.xlabel('Iteration')\n",
        "plt.show()\n"
      ],
      "metadata": {
        "colab": {
          "base_uri": "https://localhost:8080/",
          "height": 472
        },
        "id": "cS8APmIVtVUQ",
        "outputId": "f50e7631-f71b-4953-c775-276a39ae3e41"
      },
      "execution_count": 17,
      "outputs": [
        {
          "output_type": "display_data",
          "data": {
            "text/plain": [
              "<Figure size 640x480 with 1 Axes>"
            ],
            "image/png": "[encoded data removed]"
          },
          "metadata": {}
        }
      ]
    },
    {
      "cell_type": "code",
      "source": [
        "import pickle\n",
        "\n",
        "with open('semi_model_25.pkl', 'wb') as f:\n",
        "    pickle.dump(semi_model_25, f)"
      ],
      "metadata": {
        "id": "0vyQt86_YH91"
      },
      "execution_count": 18,
      "outputs": []
    },
    {
      "cell_type": "code",
      "source": [
        "pct_correct_semi_25 = 100 * evaluate_model(semi_model_25, loader_valid)\n",
        "print(f\"Accuracy of the supervised model trained on 25% of labels: {pct_correct_semi_25} %\")"
      ],
      "metadata": {
        "colab": {
          "base_uri": "https://localhost:8080/"
        },
        "id": "c-Yr6a_TYL-3",
        "outputId": "8597cfc4-5a7c-4656-b437-a712d184db14"
      },
      "execution_count": 20,
      "outputs": [
        {
          "output_type": "stream",
          "name": "stderr",
          "text": [
            "/usr/lib/python3.10/multiprocessing/popen_fork.py:66: RuntimeWarning: os.fork() was called. os.fork() is incompatible with multithreaded code, and JAX is multithreaded, so this will likely lead to a deadlock.\n",
            "  self.pid = os.fork()\n",
            "/usr/lib/python3.10/multiprocessing/popen_fork.py:66: RuntimeWarning: os.fork() was called. os.fork() is incompatible with multithreaded code, and JAX is multithreaded, so this will likely lead to a deadlock.\n",
            "  self.pid = os.fork()\n"
          ]
        },
        {
          "output_type": "stream",
          "name": "stdout",
          "text": [
            "Accuracy of the supervised model trained on 25% of labels: 70.39 %\n"
          ]
        }
      ]
    },
    {
      "cell_type": "markdown",
      "source": [
        "# Results\n",
        "\n",
        "Accuracy (%) for supervised learning:\n",
        "- 5% of labels: 73.89%\n",
        "- 10% of labels: 83.21%\n",
        "- 25% of labels: 89.04%\n",
        "\n",
        "Accuracy (%) for semi-supervised learning (k-NN):\n",
        "- 10% of labels: 17.00%\n",
        "\n",
        "Accuracy (%) for semi-supervised learning (LLP):\n",
        "- 5% of labels: 29.90%\n",
        "- 10% of labels: 30.81%\n",
        "- 25% of labels: 70.39%"
      ],
      "metadata": {
        "id": "OX_r8oBa-aEV"
      }
    },
    {
      "cell_type": "markdown",
      "source": [
        "# Conclusion\n",
        "\n",
        "The fully supervised model had the best results, as expected due to the large amount of labelled data. We note that the LLP semi-supervised model outperformed the k-means model. The ability to use fully unlabelled data for label propagation allows the use of significantly more training data, resulting in more accurate predictions.\n",
        "\n",
        "The failure of the k-NN procedure was due to it not utilizing unlabelled points, causing poor density estimations.\n",
        "\n",
        "\n",
        "\n",
        "Although our LLP model did not reach the performance noted in the paper, one possible explanation for this is the use of CIFAR-10 instead of ImageNet for our data. With 10 classes instead of 1000 in ImageNet, this was a much easier problem to solve that may not have warranted the methods we employed. However, this limitation was necessary due to limited GPU access. Also, using K-Means loss as our clustering loss instead of NLL is another deviation from the paper that created the challenge of tuning between clustering loss and cross entropy loss.\n",
        "\n",
        "Future improvements to this project would include using a more complex dataset, as well as experimenting with different loss functions and learning rates. The time limit and restrictions imposed by Google Colab also constrained the datasets we could use and the number of epochs we could train for; these limitations also guided us to choose higher learning rate values without learning rate decay, which are likely nonoptimal.\n"
      ],
      "metadata": {
        "id": "W222k9Nl8RCC"
      }
    },
    {
      "cell_type": "markdown",
      "source": [
        "# References\n",
        "\n",
        "[1] C. Zhuang, X. Ding, D. Murli, and D. Yamins. (2019) Local Label Propagation for Large-Scale\n",
        "Semi-Supervised Learning. arXiv preprint arXiv:1905.11581v1 [cs.CV].\n",
        "\n",
        "[2] Wu, Z. et al. (2018) ‘Unsupervised feature learning via non-parametric instance discrimination’, 2018 IEEE/CVF Conference on Computer Vision and Pattern Recognition [Preprint]. doi:10.1109/cvpr.2018.00393.\n"
      ],
      "metadata": {
        "id": "LOYCTyA68S6V"
      }
    }
  ],
  "metadata": {
    "accelerator": "GPU",
    "colab": {
      "gpuType": "T4",
      "provenance": []
    },
    "kernelspec": {
      "display_name": "Python 3",
      "name": "python3"
    },
    "language_info": {
      "name": "python"
    }
  },
  "nbformat": 4,
  "nbformat_minor": 0
}
{
  "nbformat": 4,
  "nbformat_minor": 0,
  "metadata": {
    "colab": {
      "provenance": [],
      "gpuType": "T4"
    },
    "kernelspec": {
      "name": "python3",
      "display_name": "Python 3"
    },
    "language_info": {
      "name": "python"
    },
    "accelerator": "GPU"
  },
  "cells": [
    {
      "cell_type": "markdown",
      "source": [
        "Title:\n",
        "\n",
        "Name:\n",
        "\n",
        "UW Email:"
      ],
      "metadata": {
        "id": "s6fRi3NTHDMe"
      }
    },
    {
      "cell_type": "markdown",
      "source": [
        "# Abstract\n",
        "\n",
        "TODO\n"
      ],
      "metadata": {
        "id": "TlWX52jOG3UI"
      }
    },
    {
      "cell_type": "markdown",
      "source": [
        "# Team members & contributions\n",
        "\n",
        "TODO"
      ],
      "metadata": {
        "id": "cfWjvlasG6H2"
      }
    },
    {
      "cell_type": "code",
      "execution_count": 1,
      "metadata": {
        "id": "Gt4OIkdTOnjJ"
      },
      "outputs": [],
      "source": [
        "import numpy as np\n",
        "import matplotlib.pyplot as plt\n",
        "from tqdm import tqdm\n",
        "\n",
        "import torch\n",
        "import torchvision\n",
        "import torch.nn.functional as F\n",
        "from torch import nn\n",
        "from torch.utils.data import DataLoader\n",
        "import torchvision.transforms as transforms\n",
        "import torchvision.transforms.functional as tF\n",
        "import torchvision.datasets as datasets\n",
        "from torchvision.models import ResNet18_Weights\n",
        "\n",
        "from sklearn.cluster import KMeans"
      ]
    },
    {
      "cell_type": "code",
      "source": [
        "device = torch.device(\"cuda:0\" if torch.cuda.is_available() else \"cpu\")\n",
        "\n",
        "torch.manual_seed(42)\n",
        "np.random.seed(42)"
      ],
      "metadata": {
        "id": "_SPVK8GKFQ6K"
      },
      "execution_count": 2,
      "outputs": []
    },
    {
      "cell_type": "code",
      "source": [
        "# TODO: create more datasets\n",
        "\n",
        "UNLABELLED = -1\n",
        "\n",
        "transform = transforms.Compose([\n",
        "    transforms.Resize(256),\n",
        "    transforms.CenterCrop(224),\n",
        "    transforms.ToTensor(),\n",
        "    transforms.Normalize((0.4914, 0.4822, 0.4465), (0.247, 0.243, 0.261)),\n",
        "])\n",
        "\n",
        "# Load CIFAR-10 datasets\n",
        "cifar_train = datasets.CIFAR10(root='./data', train=True, download=True, transform=transform)\n",
        "cifar_valid = datasets.CIFAR10(root='./data', train=False, download=True, transform=transform)\n",
        "\n",
        "def generate_indices(dataset, pct_labelled=0.1):\n",
        "    num_samples = int(pct_labelled * len(dataset))\n",
        "    return torch.randperm(len(dataset))[:num_samples]\n",
        "\n",
        "\n",
        "\n",
        "# Define datasets for fully supervised learning\n",
        "\n",
        "# 10% of data labelled\n",
        "indices_10 = generate_indices(cifar_train, 0.1)\n",
        "full_dataset_10 = torch.utils.data.Subset(cifar_train, indices_10)\n",
        "full_loader_10 = DataLoader(full_dataset_10, batch_size=128, shuffle=True, num_workers=2)\n",
        "\n",
        "# 5% of data labelled\n",
        "indices_05 = generate_indices(cifar_train, 0.05)\n",
        "full_dataset_05 = torch.utils.data.Subset(cifar_train, indices_05)\n",
        "full_loader_05 = DataLoader(full_dataset_05, batch_size=128, shuffle=True, num_workers=2)\n",
        "\n",
        "# 1% of data labelled\n",
        "indices_01 = generate_indices(cifar_train, 0.01)\n",
        "full_dataset_01 = torch.utils.data.Subset(cifar_train, indices_01)\n",
        "full_loader_01 = DataLoader(full_dataset_01, batch_size=128, shuffle=True, num_workers=2)\n",
        "\n",
        "loader_valid = DataLoader(cifar_valid, batch_size=128, shuffle=False, num_workers=2)"
      ],
      "metadata": {
        "colab": {
          "base_uri": "https://localhost:8080/"
        },
        "id": "MZpGRyFgzGDT",
        "outputId": "13ace8d8-0baf-48e1-d726-26e316817bd0"
      },
      "execution_count": 29,
      "outputs": [
        {
          "output_type": "stream",
          "name": "stdout",
          "text": [
            "Files already downloaded and verified\n",
            "Files already downloaded and verified\n"
          ]
        }
      ]
    },
    {
      "cell_type": "code",
      "source": [
        "class Model(nn.Module):\n",
        "    def __init__(self):\n",
        "        super(Model, self).__init__()\n",
        "        self.model = torchvision.models.resnet18(weights=ResNet18_Weights.IMAGENET1K_V1) # initialize weights to make training easier (via transfer learning)\n",
        "        self.model.fc = nn.Identity()\n",
        "        self.fc = nn.Linear(512, 10)\n",
        "\n",
        "    def forward(self, x):\n",
        "        features = self.model(x)\n",
        "        x = self.fc(features)\n",
        "        return x, features"
      ],
      "metadata": {
        "id": "kShKg8NvDKeM"
      },
      "execution_count": 30,
      "outputs": []
    },
    {
      "cell_type": "markdown",
      "source": [
        "# Supervised learning\n",
        "\n",
        "We want to see how well we can do without using the unlabelled data points at all, with a simple supervised model only on that subset of data. This will be the baseline against which we will compare. As stated earlier, we will do this with subsets of labelled data comprising 1%, 5%, and 10% of the data."
      ],
      "metadata": {
        "id": "m6ZDSXBMESb1"
      }
    },
    {
      "cell_type": "code",
      "source": [
        "device = torch.device(\"cuda:0\" if torch.cuda.is_available() else \"cpu\")\n",
        "\n",
        "\n",
        "models = [Model() for i in range(3)]\n",
        "names = [\"1% labelled\", \"5% labelled\", \"10% labelled\"]\n",
        "data_loaders = [full_loader_01, full_loader_05, full_loader_10]\n",
        "losses = [[] for i in range(3)]\n",
        "\n",
        "for model_idx in range(3):\n",
        "    criterion = nn.CrossEntropyLoss()\n",
        "\n",
        "    full_model = models[model_idx]\n",
        "\n",
        "    full_model.train()\n",
        "    full_model.to(device)\n",
        "\n",
        "    optimizer = torch.optim.SGD(full_model.parameters(), lr=0.0001, momentum=0.9)\n",
        "    num_epochs = 5\n",
        "\n",
        "    for epoch in range(num_epochs):\n",
        "        for i, (images, labels) in enumerate(tqdm(data_loaders[model_idx])):\n",
        "            images = images.to(device)\n",
        "            labels = labels.to(device)\n",
        "\n",
        "            # Forward pass\n",
        "            outputs, features = full_model(images)\n",
        "\n",
        "            loss = criterion(outputs, labels)\n",
        "            losses[model_idx].append(loss.item())\n",
        "\n",
        "            # Backward pass\n",
        "            optimizer.zero_grad()\n",
        "            loss.backward()\n",
        "            optimizer.step()\n",
        "\n",
        "        # Print statistics\n",
        "        print(f\"{names[model_idx]} -- Epoch {epoch+1}/{num_epochs}, Loss: {loss.item():.4f}\")\n",
        "\n"
      ],
      "metadata": {
        "colab": {
          "base_uri": "https://localhost:8080/"
        },
        "id": "_Bs9Uabhy6nV",
        "outputId": "7d56346a-a55d-47ba-dcdf-edf8ec228273"
      },
      "execution_count": 33,
      "outputs": [
        {
          "output_type": "stream",
          "name": "stderr",
          "text": [
            "\r  0%|          | 0/4 [00:00<?, ?it/s]/usr/lib/python3.10/multiprocessing/popen_fork.py:66: RuntimeWarning: os.fork() was called. os.fork() is incompatible with multithreaded code, and JAX is multithreaded, so this will likely lead to a deadlock.\n",
            "  self.pid = os.fork()\n",
            "100%|██████████| 4/4 [00:02<00:00,  2.09it/s]/usr/lib/python3.10/multiprocessing/popen_fork.py:66: RuntimeWarning: os.fork() was called. os.fork() is incompatible with multithreaded code, and JAX is multithreaded, so this will likely lead to a deadlock.\n",
            "  self.pid = os.fork()\n",
            "100%|██████████| 4/4 [00:02<00:00,  1.64it/s]\n"
          ]
        },
        {
          "output_type": "stream",
          "name": "stdout",
          "text": [
            "1% labelled -- Epoch 1/5, Loss: 2.4191\n"
          ]
        },
        {
          "output_type": "stream",
          "name": "stderr",
          "text": [
            "100%|██████████| 4/4 [00:01<00:00,  2.10it/s]\n"
          ]
        },
        {
          "output_type": "stream",
          "name": "stdout",
          "text": [
            "1% labelled -- Epoch 2/5, Loss: 2.3485\n"
          ]
        },
        {
          "output_type": "stream",
          "name": "stderr",
          "text": [
            "100%|██████████| 4/4 [00:01<00:00,  2.10it/s]\n"
          ]
        },
        {
          "output_type": "stream",
          "name": "stdout",
          "text": [
            "1% labelled -- Epoch 3/5, Loss: 2.3043\n"
          ]
        },
        {
          "output_type": "stream",
          "name": "stderr",
          "text": [
            "100%|██████████| 4/4 [00:01<00:00,  2.10it/s]\n"
          ]
        },
        {
          "output_type": "stream",
          "name": "stdout",
          "text": [
            "1% labelled -- Epoch 4/5, Loss: 2.3271\n"
          ]
        },
        {
          "output_type": "stream",
          "name": "stderr",
          "text": [
            "100%|██████████| 4/4 [00:01<00:00,  2.01it/s]\n"
          ]
        },
        {
          "output_type": "stream",
          "name": "stdout",
          "text": [
            "1% labelled -- Epoch 5/5, Loss: 2.2512\n"
          ]
        },
        {
          "output_type": "stream",
          "name": "stderr",
          "text": [
            "100%|██████████| 20/20 [00:08<00:00,  2.49it/s]\n"
          ]
        },
        {
          "output_type": "stream",
          "name": "stdout",
          "text": [
            "5% labelled -- Epoch 1/5, Loss: 2.4780\n"
          ]
        },
        {
          "output_type": "stream",
          "name": "stderr",
          "text": [
            "100%|██████████| 20/20 [00:07<00:00,  2.60it/s]\n"
          ]
        },
        {
          "output_type": "stream",
          "name": "stdout",
          "text": [
            "5% labelled -- Epoch 2/5, Loss: 2.1858\n"
          ]
        },
        {
          "output_type": "stream",
          "name": "stderr",
          "text": [
            "100%|██████████| 20/20 [00:08<00:00,  2.49it/s]\n"
          ]
        },
        {
          "output_type": "stream",
          "name": "stdout",
          "text": [
            "5% labelled -- Epoch 3/5, Loss: 2.1294\n"
          ]
        },
        {
          "output_type": "stream",
          "name": "stderr",
          "text": [
            "100%|██████████| 20/20 [00:08<00:00,  2.49it/s]\n"
          ]
        },
        {
          "output_type": "stream",
          "name": "stdout",
          "text": [
            "5% labelled -- Epoch 4/5, Loss: 2.0079\n"
          ]
        },
        {
          "output_type": "stream",
          "name": "stderr",
          "text": [
            "100%|██████████| 20/20 [00:07<00:00,  2.59it/s]\n"
          ]
        },
        {
          "output_type": "stream",
          "name": "stdout",
          "text": [
            "5% labelled -- Epoch 5/5, Loss: 1.9361\n"
          ]
        },
        {
          "output_type": "stream",
          "name": "stderr",
          "text": [
            "100%|██████████| 40/40 [00:15<00:00,  2.58it/s]\n"
          ]
        },
        {
          "output_type": "stream",
          "name": "stdout",
          "text": [
            "10% labelled -- Epoch 1/5, Loss: 2.1206\n"
          ]
        },
        {
          "output_type": "stream",
          "name": "stderr",
          "text": [
            "100%|██████████| 40/40 [00:15<00:00,  2.66it/s]\n"
          ]
        },
        {
          "output_type": "stream",
          "name": "stdout",
          "text": [
            "10% labelled -- Epoch 2/5, Loss: 2.1558\n"
          ]
        },
        {
          "output_type": "stream",
          "name": "stderr",
          "text": [
            "100%|██████████| 40/40 [00:15<00:00,  2.66it/s]\n"
          ]
        },
        {
          "output_type": "stream",
          "name": "stdout",
          "text": [
            "10% labelled -- Epoch 3/5, Loss: 1.9173\n"
          ]
        },
        {
          "output_type": "stream",
          "name": "stderr",
          "text": [
            "100%|██████████| 40/40 [00:15<00:00,  2.64it/s]\n"
          ]
        },
        {
          "output_type": "stream",
          "name": "stdout",
          "text": [
            "10% labelled -- Epoch 4/5, Loss: 1.8790\n"
          ]
        },
        {
          "output_type": "stream",
          "name": "stderr",
          "text": [
            "100%|██████████| 40/40 [00:15<00:00,  2.64it/s]"
          ]
        },
        {
          "output_type": "stream",
          "name": "stdout",
          "text": [
            "10% labelled -- Epoch 5/5, Loss: 1.7030\n"
          ]
        },
        {
          "output_type": "stream",
          "name": "stderr",
          "text": [
            "\n"
          ]
        }
      ]
    },
    {
      "cell_type": "code",
      "source": [
        "print(losses)\n",
        "for i, x in enumerate(losses):\n",
        "    plt.plot(x, label=names[i])\n",
        "plt.title('Supervised training loss')\n",
        "plt.ylabel('Loss')\n",
        "plt.xlabel('Iteration')\n",
        "plt.legend()\n",
        "plt.show()\n"
      ],
      "metadata": {
        "colab": {
          "base_uri": "https://localhost:8080/",
          "height": 509
        },
        "id": "jfgDjb6GBKZp",
        "outputId": "7156d3b4-87dd-4f0e-ba60-fcc21be1e446"
      },
      "execution_count": 34,
      "outputs": [
        {
          "output_type": "stream",
          "name": "stdout",
          "text": [
            "[[2.334191083908081, 2.3559513092041016, 2.3625731468200684, 2.4191243648529053, 2.3465747833251953, 2.379274845123291, 2.3429107666015625, 2.348465919494629, 2.2797515392303467, 2.3686320781707764, 2.341205596923828, 2.304271936416626, 2.3095757961273193, 2.2763068675994873, 2.271134376525879, 2.327143669128418, 2.2489523887634277, 2.2659995555877686, 2.2626256942749023, 2.2511637210845947], [2.6084835529327393, 2.670560121536255, 2.5038537979125977, 2.6907639503479004, 2.553164005279541, 2.739166736602783, 2.567033290863037, 2.5671494007110596, 2.523277759552002, 2.538984775543213, 2.4582908153533936, 2.519441604614258, 2.481412172317505, 2.381381034851074, 2.359783411026001, 2.548503875732422, 2.4304256439208984, 2.372196674346924, 2.480229377746582, 2.478032350540161, 2.3866465091705322, 2.35402512550354, 2.2921411991119385, 2.363227367401123, 2.277928352355957, 2.3527872562408447, 2.306119918823242, 2.2601122856140137, 2.3018603324890137, 2.3053526878356934, 2.2516307830810547, 2.2060563564300537, 2.239032030105591, 2.371180534362793, 2.1930878162384033, 2.203591823577881, 2.331794500350952, 2.2934436798095703, 2.269078254699707, 2.1857998371124268, 2.190459728240967, 2.2169265747070312, 2.1844263076782227, 2.2037065029144287, 2.1567249298095703, 2.1927263736724854, 2.168673515319824, 2.174920082092285, 2.1355605125427246, 2.203538179397583, 2.141291618347168, 2.152194023132324, 2.169980764389038, 2.1509454250335693, 2.114654302597046, 2.1380422115325928, 2.1058244705200195, 2.0884294509887695, 2.174316167831421, 2.129380702972412, 2.0838422775268555, 2.1031877994537354, 2.09468150138855, 2.021650791168213, 2.0738120079040527, 2.098325729370117, 2.0617637634277344, 2.059033155441284, 2.0981388092041016, 2.0916171073913574, 2.073993682861328, 2.0440564155578613, 2.0262413024902344, 2.0725646018981934, 2.0128636360168457, 2.0518007278442383, 2.055497884750366, 2.113882303237915, 2.0640649795532227, 2.007948875427246, 2.043869733810425, 2.0993001461029053, 2.0221173763275146, 2.0206823348999023, 1.9087334871292114, 2.0116682052612305, 1.9905993938446045, 2.0217602252960205, 2.021878480911255, 1.968151330947876, 1.990907907485962, 1.9268661737442017, 1.981237530708313, 1.96968412399292, 1.992785930633545, 1.913907766342163, 1.9191633462905884, 1.9918333292007446, 1.9807298183441162, 1.9360506534576416], [2.6172356605529785, 2.5788180828094482, 2.531442642211914, 2.526996374130249, 2.605348825454712, 2.533339738845825, 2.5155043601989746, 2.622797727584839, 2.477703094482422, 2.507694959640503, 2.4639368057250977, 2.4719672203063965, 2.4840409755706787, 2.434877634048462, 2.4119575023651123, 2.399472713470459, 2.4281232357025146, 2.3494033813476562, 2.4295356273651123, 2.331106424331665, 2.369551420211792, 2.355426073074341, 2.367844581604004, 2.347144842147827, 2.378793239593506, 2.3007121086120605, 2.278352975845337, 2.357913017272949, 2.3477280139923096, 2.2814414501190186, 2.2295117378234863, 2.2600326538085938, 2.2952523231506348, 2.3129653930664062, 2.3039214611053467, 2.2891159057617188, 2.2659807205200195, 2.240780830383301, 2.1835947036743164, 2.1206185817718506, 2.2629990577697754, 2.236644983291626, 2.242892265319824, 2.2627809047698975, 2.2063169479370117, 2.201857805252075, 2.202213764190674, 2.2864959239959717, 2.2402751445770264, 2.1808512210845947, 2.1795451641082764, 2.1751599311828613, 2.253690242767334, 2.1865508556365967, 2.1019532680511475, 2.2219583988189697, 2.126769542694092, 2.169874906539917, 2.1136980056762695, 2.238743543624878, 2.1796891689300537, 2.142638683319092, 2.15153431892395, 2.1948680877685547, 2.1720783710479736, 2.0632355213165283, 2.1034934520721436, 2.166499137878418, 2.0823378562927246, 2.209670066833496, 2.1636996269226074, 2.143759250640869, 2.1298508644104004, 2.1446988582611084, 2.1334786415100098, 2.1285922527313232, 2.110095262527466, 2.046660900115967, 2.0454139709472656, 2.155752182006836, 2.054048776626587, 2.0229148864746094, 2.061507225036621, 2.0431976318359375, 2.102666139602661, 2.1053802967071533, 2.031961679458618, 2.0321695804595947, 2.1400434970855713, 1.971519947052002, 2.0411808490753174, 2.0559334754943848, 2.0395755767822266, 2.0458619594573975, 2.0208325386047363, 2.014209747314453, 2.1331262588500977, 2.051118850708008, 2.04429030418396, 2.0309696197509766, 1.9539432525634766, 1.9711885452270508, 1.9763460159301758, 1.975365161895752, 2.0410315990448, 2.001002311706543, 1.893741250038147, 1.9718620777130127, 2.040700912475586, 1.9289900064468384, 1.957573413848877, 1.9386414289474487, 1.9296592473983765, 1.9496607780456543, 1.9310120344161987, 1.996661901473999, 1.9105143547058105, 1.933145523071289, 1.900036096572876, 1.9172863960266113, 1.955960750579834, 1.9023147821426392, 1.8900150060653687, 1.9174838066101074, 1.8485361337661743, 1.8652749061584473, 1.9445827007293701, 1.9582397937774658, 1.8511196374893188, 1.9269764423370361, 1.8432668447494507, 1.8661400079727173, 1.9381697177886963, 1.881855845451355, 1.838147521018982, 1.816197156906128, 1.841464877128601, 1.8440985679626465, 1.873044729232788, 1.8889847993850708, 1.8486249446868896, 1.8205256462097168, 1.8126685619354248, 1.8473682403564453, 1.8204448223114014, 1.825412631034851, 1.861010193824768, 1.8584692478179932, 1.8277230262756348, 1.8425917625427246, 1.7664097547531128, 1.8624292612075806, 1.7899869680404663, 1.8362183570861816, 1.878862738609314, 1.9050028324127197, 1.7613853216171265, 1.7644647359848022, 1.8144738674163818, 1.879011631011963, 1.8144683837890625, 1.7693463563919067, 1.769412636756897, 1.7785191535949707, 1.862046718597412, 1.7276262044906616, 1.7546700239181519, 1.710114598274231, 1.821660041809082, 1.7293421030044556, 1.7507957220077515, 1.6755921840667725, 1.7475862503051758, 1.7534327507019043, 1.725350260734558, 1.7603535652160645, 1.6888947486877441, 1.6944003105163574, 1.7427383661270142, 1.6973966360092163, 1.7175993919372559, 1.7192914485931396, 1.7003545761108398, 1.692368507385254, 1.7114510536193848, 1.739842176437378, 1.8141839504241943, 1.6671034097671509, 1.6583307981491089, 1.6714249849319458, 1.6970958709716797, 1.702976942062378, 1.6740648746490479, 1.611016035079956, 1.712080478668213, 1.6646753549575806, 1.6100163459777832, 1.6868438720703125, 1.6383072137832642, 1.7030353546142578]]\n"
          ]
        },
        {
          "output_type": "display_data",
          "data": {
            "text/plain": [
              "<Figure size 640x480 with 1 Axes>"
            ],
            "image/png": "[encoded data removed]"
          },
          "metadata": {}
        }
      ]
    },
    {
      "cell_type": "code",
      "source": [
        "# Returns fraction of correct predictions of the model on the given dataset\n",
        "def evaluate_model(model, data_loader):\n",
        "    model.eval()\n",
        "    model.to(device)\n",
        "    correct = 0\n",
        "    total = 0\n",
        "    with torch.no_grad():\n",
        "        for images, labels in data_loader:\n",
        "            images = images.to(device)\n",
        "            labels = labels.to(device)\n",
        "\n",
        "            outputs, _ = model(images)\n",
        "            _, predicted = torch.max(outputs.data, 1)\n",
        "\n",
        "            total += labels.size(0)\n",
        "            correct += (predicted == labels).sum().item()\n",
        "    return correct / total"
      ],
      "metadata": {
        "id": "MaUUEa56T5AP"
      },
      "execution_count": 27,
      "outputs": []
    },
    {
      "cell_type": "code",
      "source": [
        "# Evaluate the models\n",
        "for model_idx in range(3):\n",
        "    pct_correct_supervised_trained = 100 * evaluate_model(models[model_idx], loader_valid)\n",
        "    print(f\"Accuracy of the supervised model trained on {names[model_idx]} of labels: {pct_correct_supervised_trained} %\")\n"
      ],
      "metadata": {
        "colab": {
          "base_uri": "https://localhost:8080/"
        },
        "id": "ugsr8pVI8Kfr",
        "outputId": "c6c80677-b82e-4830-c3f2-194182cd4434"
      },
      "execution_count": 35,
      "outputs": [
        {
          "output_type": "stream",
          "name": "stdout",
          "text": [
            "Accuracy of the supervised model trained on 1% labelled of labels: 13.36 %\n",
            "Accuracy of the supervised model trained on 5% labelled of labels: 33.339999999999996 %\n",
            "Accuracy of the supervised model trained on 10% labelled of labels: 50.56 %\n"
          ]
        }
      ]
    },
    {
      "cell_type": "markdown",
      "source": [
        "Of course, we expect an untrained model to be right around 10% of the time, as there are 10 classes."
      ],
      "metadata": {
        "id": "G1hWsMNx7uZI"
      }
    },
    {
      "cell_type": "code",
      "source": [
        "# Compared to untrained model\n",
        "\n",
        "untrained_model = Model()\n",
        "untrained_model.eval()\n",
        "untrained_model.to(device)\n",
        "\n",
        "# Evaluate the model\n",
        "correct = 0\n",
        "total = 0\n",
        "with torch.no_grad():\n",
        "    for images, labels in loader_valid:\n",
        "        images = images.to(device)\n",
        "        labels = labels.to(device)\n",
        "\n",
        "        outputs, _ = untrained_model(images)\n",
        "        _, predicted = torch.max(outputs.data, 1)\n",
        "\n",
        "        total += labels.size(0)\n",
        "        correct += (predicted == labels).sum().item()\n",
        "\n",
        "print('Accuracy of an untrained model : %d %%' % (100 * correct / total))\n"
      ],
      "metadata": {
        "colab": {
          "base_uri": "https://localhost:8080/"
        },
        "id": "_C0hWRf58_2L",
        "outputId": "b99f22ba-6681-4704-ee90-79a0d4630ae2"
      },
      "execution_count": null,
      "outputs": [
        {
          "output_type": "stream",
          "name": "stdout",
          "text": [
            "Accuracy of an untrained model : 10 %\n"
          ]
        }
      ]
    },
    {
      "cell_type": "markdown",
      "source": [
        "# Semi-supervised learning"
      ],
      "metadata": {
        "id": "3Gtb3vj4Egj2"
      }
    },
    {
      "cell_type": "code",
      "source": [
        "# Custom dataset for semi-supervised learning\n",
        "class SemiSupervised(torch.utils.data.Dataset):\n",
        "    def __init__(self, labeled_dataset, indices):\n",
        "        self.labeled_dataset = labeled_dataset\n",
        "        self.labeled_indices = indices\n",
        "\n",
        "    def __getitem__(self, index):\n",
        "        if index in self.labeled_indices:\n",
        "            return self.labeled_dataset[index]\n",
        "        else:\n",
        "            img, label = self.labeled_dataset[index]\n",
        "            return img, UNLABELLED\n",
        "\n",
        "    def __len__(self):\n",
        "        return len(self.labeled_dataset)\n",
        "\n",
        "# Create semi-supervised datasets\n",
        "semi_dataset_10 = SemiSupervised(\n",
        "    labeled_dataset=cifar_train,\n",
        "    indices=indices_10\n",
        ")\n",
        "\n",
        "semi_loader_10 = DataLoader(semi_dataset_10, batch_size=128, shuffle=True, num_workers=2)"
      ],
      "metadata": {
        "id": "8q4EVfFCcqX1"
      },
      "execution_count": 36,
      "outputs": []
    },
    {
      "cell_type": "code",
      "source": [
        "# non-parametric softmax operation by Wu et. al.\n",
        "# axis 0: v, axis 1: i\n",
        "def PIV(features, temp):\n",
        "  upper = torch.exp(torch.matmul(features, features.T) / temp)\n",
        "  denom = upper.sum(axis=1)\n",
        "  return upper / denom\n",
        "\n",
        "def weighted_knn(features, labels, k, temp):\n",
        "  # Calculate the distances between each pair of points\n",
        "    mask = torch.where(labels == UNLABELLED)\n",
        "    unlabelled_features = (features[mask])\n",
        "    labelled_features = features[labels != UNLABELLED]\n",
        "    only_labels = labels[labels != UNLABELLED]\n",
        "\n",
        "    distances = torch.cdist(unlabelled_features, labelled_features, p=2)\n",
        "\n",
        "    # Find the k nearest neighbors for each point in x\n",
        "    _, indices = torch.topk(distances, k=min(k, len(only_labels)), largest=False)\n",
        "\n",
        "    piv = PIV(features, temp)\n",
        "\n",
        "    weights = torch.zeros((len(mask[0]), 10))\n",
        "    weights = weights.to(device)\n",
        "\n",
        "    for i, idxs in enumerate(indices):\n",
        "      v = mask[0][i]\n",
        "      for j in idxs:\n",
        "        weights[i][only_labels[j]] += piv[v, j]\n",
        "\n",
        "    probs = weights / weights.sum(axis=1)[:, None]\n",
        "\n",
        "    pseudo_confidence, pseudo_labels = probs.max(axis=1)\n",
        "\n",
        "    pseudo_labels = pseudo_labels.to(device)\n",
        "    pseudo_confidence = pseudo_confidence.to(device)\n",
        "\n",
        "    new_labels = labels.clone()\n",
        "    new_labels[mask] = pseudo_labels\n",
        "\n",
        "    confidence = torch.ones_like(labels, dtype=pseudo_confidence.dtype)\n",
        "    confidence[mask] = pseudo_confidence\n",
        "\n",
        "    return new_labels, confidence\n",
        "\n",
        "# TODO: add LLP\n",
        "def LLP(features, labels, temp):\n",
        "  pass\n"
      ],
      "metadata": {
        "id": "EByz4Mg9Udzz"
      },
      "execution_count": 37,
      "outputs": []
    },
    {
      "cell_type": "code",
      "source": [
        "class KMeansClusteringLoss(torch.nn.Module):\n",
        "    def __init__(self):\n",
        "        super(KMeansClusteringLoss, self).__init__()\n",
        "\n",
        "    def forward(self, features, centroids):\n",
        "        n = features.shape[0]\n",
        "        d = features.shape[1]\n",
        "        k = centroids.shape[0]\n",
        "\n",
        "        z = features.reshape(n, 1, d)\n",
        "        z = z.repeat(1, k, 1)\n",
        "\n",
        "        mu = centroids.reshape(1, k, d)\n",
        "        mu = mu.repeat(n, 1, 1)\n",
        "\n",
        "        dist = (z - mu).norm(2, dim=2).reshape((n, k))\n",
        "        loss = (dist.min(dim=1)[0] ** 2)\n",
        "\n",
        "        return loss"
      ],
      "metadata": {
        "id": "txWX7c4qvuPj"
      },
      "execution_count": 39,
      "outputs": []
    },
    {
      "cell_type": "code",
      "source": [
        "criterion = nn.CrossEntropyLoss(reduction='none')\n",
        "clustering_criterion = KMeansClusteringLoss()\n",
        "\n",
        "semi_model_10 = Model()\n",
        "\n",
        "semi_model_10.train()\n",
        "semi_model_10.to(device)\n",
        "\n",
        "optimizer = torch.optim.SGD(semi_model_10.parameters(), lr=0.0001, momentum=0.9)\n",
        "ALPHA = 0.01 # hyper parameter controlling weight of cluster loss\n",
        "NUM_EPOCHS = 5\n",
        "K = 10\n",
        "TEMP = 25\n",
        "\n",
        "losses = []\n",
        "\n",
        "for epoch in range(NUM_EPOCHS):\n",
        "    for i, (images, labels) in enumerate(tqdm(semi_loader_10)):\n",
        "        images = images.to(device)\n",
        "        labels = labels.to(device)\n",
        "\n",
        "        # Forward pass\n",
        "        outputs, features = semi_model_10(images)\n",
        "\n",
        "        # pseudo-labelling\n",
        "        pseudo_labels, confidence = weighted_knn(features, labels, K, TEMP)\n",
        "\n",
        "        # loss calculation\n",
        "        centroids = KMeans(n_clusters=10, n_init=10).fit(features.cpu().detach().numpy()).cluster_centers_\n",
        "        centroids = torch.tensor(centroids).to(device)\n",
        "        cluster_loss = ALPHA * clustering_criterion(features, centroids)\n",
        "\n",
        "        # print('CLUSTER LOSS: ', cluster_loss.mean().item())\n",
        "\n",
        "        ce_loss = criterion(outputs, pseudo_labels)\n",
        "\n",
        "        # print('CE LOSS: ', ce_loss.mean().item())\n",
        "\n",
        "        loss = (confidence * (ce_loss + cluster_loss)).mean()\n",
        "        losses.append(loss.item())\n",
        "\n",
        "        # Backward pass\n",
        "\n",
        "        optimizer.zero_grad()\n",
        "        loss.backward()\n",
        "        optimizer.step()\n",
        "\n",
        "    # Print statistics\n",
        "    print(f\"Epoch {epoch+1}/{NUM_EPOCHS}, Loss: {loss.item():.4f}\")\n",
        "\n"
      ],
      "metadata": {
        "id": "h5dyf4jtEm5T",
        "colab": {
          "base_uri": "https://localhost:8080/"
        },
        "outputId": "c863f47b-acf6-400d-ac53-fa099e87fd6a"
      },
      "execution_count": null,
      "outputs": [
        {
          "output_type": "stream",
          "name": "stderr",
          "text": [
            "\r  0%|          | 0/391 [00:00<?, ?it/s]/usr/lib/python3.10/multiprocessing/popen_fork.py:66: RuntimeWarning: os.fork() was called. os.fork() is incompatible with multithreaded code, and JAX is multithreaded, so this will likely lead to a deadlock.\n",
            "  self.pid = os.fork()\n",
            "100%|██████████| 391/391 [05:31<00:00,  1.18it/s]\n"
          ]
        },
        {
          "output_type": "stream",
          "name": "stdout",
          "text": [
            "Epoch 1/10, Loss: 1.7275\n"
          ]
        },
        {
          "output_type": "stream",
          "name": "stderr",
          "text": [
            "\r  0%|          | 0/391 [00:00<?, ?it/s]/usr/lib/python3.10/multiprocessing/popen_fork.py:66: RuntimeWarning: os.fork() was called. os.fork() is incompatible with multithreaded code, and JAX is multithreaded, so this will likely lead to a deadlock.\n",
            "  self.pid = os.fork()\n",
            "100%|██████████| 391/391 [05:43<00:00,  1.38it/s]/usr/lib/python3.10/multiprocessing/popen_fork.py:66: RuntimeWarning: os.fork() was called. os.fork() is incompatible with multithreaded code, and JAX is multithreaded, so this will likely lead to a deadlock.\n",
            "  self.pid = os.fork()\n",
            "100%|██████████| 391/391 [05:44<00:00,  1.14it/s]\n"
          ]
        },
        {
          "output_type": "stream",
          "name": "stdout",
          "text": [
            "Epoch 2/10, Loss: 1.0891\n"
          ]
        },
        {
          "output_type": "stream",
          "name": "stderr",
          "text": [
            "\r  0%|          | 0/391 [00:00<?, ?it/s]/usr/lib/python3.10/multiprocessing/popen_fork.py:66: RuntimeWarning: os.fork() was called. os.fork() is incompatible with multithreaded code, and JAX is multithreaded, so this will likely lead to a deadlock.\n",
            "  self.pid = os.fork()\n",
            "100%|██████████| 391/391 [06:16<00:00,  1.04it/s]\n"
          ]
        },
        {
          "output_type": "stream",
          "name": "stdout",
          "text": [
            "Epoch 3/10, Loss: 1.0643\n"
          ]
        },
        {
          "output_type": "stream",
          "name": "stderr",
          "text": [
            "\r  0%|          | 0/391 [00:00<?, ?it/s]/usr/lib/python3.10/multiprocessing/popen_fork.py:66: RuntimeWarning: os.fork() was called. os.fork() is incompatible with multithreaded code, and JAX is multithreaded, so this will likely lead to a deadlock.\n",
            "  self.pid = os.fork()\n",
            "100%|██████████| 391/391 [05:52<00:00,  1.11it/s]\n"
          ]
        },
        {
          "output_type": "stream",
          "name": "stdout",
          "text": [
            "Epoch 4/10, Loss: 0.9818\n"
          ]
        },
        {
          "output_type": "stream",
          "name": "stderr",
          "text": [
            "\r  0%|          | 0/391 [00:00<?, ?it/s]/usr/lib/python3.10/multiprocessing/popen_fork.py:66: RuntimeWarning: os.fork() was called. os.fork() is incompatible with multithreaded code, and JAX is multithreaded, so this will likely lead to a deadlock.\n",
            "  self.pid = os.fork()\n",
            "100%|██████████| 391/391 [06:08<00:00,  1.32it/s]/usr/lib/python3.10/multiprocessing/popen_fork.py:66: RuntimeWarning: os.fork() was called. os.fork() is incompatible with multithreaded code, and JAX is multithreaded, so this will likely lead to a deadlock.\n",
            "  self.pid = os.fork()\n",
            "100%|██████████| 391/391 [06:08<00:00,  1.06it/s]"
          ]
        },
        {
          "output_type": "stream",
          "name": "stdout",
          "text": [
            "Epoch 5/10, Loss: 0.7887\n"
          ]
        },
        {
          "output_type": "stream",
          "name": "stderr",
          "text": [
            "\n"
          ]
        }
      ]
    },
    {
      "cell_type": "code",
      "source": [
        "plt.plot(losses)\n",
        "plt.title('Semi-supervised training loss')\n",
        "plt.ylabel('Loss')\n",
        "plt.xlabel('Iteration')\n",
        "plt.show()\n"
      ],
      "metadata": {
        "id": "tffQpBjyF2hM",
        "colab": {
          "base_uri": "https://localhost:8080/",
          "height": 472
        },
        "outputId": "23bb786f-9984-4311-e805-394f12af601b"
      },
      "execution_count": null,
      "outputs": [
        {
          "output_type": "display_data",
          "data": {
            "text/plain": [
              "<Figure size 640x480 with 1 Axes>"
            ],
            "image/png": "[encoded data removed]"
          },
          "metadata": {}
        }
      ]
    },
    {
      "cell_type": "code",
      "source": [
        "# Evaluate the model\n",
        "semi_model_10.eval()\n",
        "correct = 0\n",
        "total = 0\n",
        "with torch.no_grad():\n",
        "    for images, labels in loader_valid:\n",
        "        images = images.to(device)\n",
        "        labels = labels.to(device)\n",
        "\n",
        "        outputs, _ = semi_model_10(images)\n",
        "        _, predicted = torch.max(outputs.data, 1)\n",
        "\n",
        "        total += labels.size(0)\n",
        "        correct += (predicted == labels).sum().item()\n",
        "\n",
        "print('Accuracy of the semi-supervised trained model: %d %%' % (100 * correct / total))\n"
      ],
      "metadata": {
        "colab": {
          "base_uri": "https://localhost:8080/"
        },
        "id": "Qqzp8lUQefmH",
        "outputId": "e1e9e764-6b3d-4b5f-c1d4-f9b0672f9302"
      },
      "execution_count": null,
      "outputs": [
        {
          "output_type": "stream",
          "name": "stderr",
          "text": [
            "/usr/lib/python3.10/multiprocessing/popen_fork.py:66: RuntimeWarning: os.fork() was called. os.fork() is incompatible with multithreaded code, and JAX is multithreaded, so this will likely lead to a deadlock.\n",
            "  self.pid = os.fork()\n"
          ]
        },
        {
          "output_type": "stream",
          "name": "stdout",
          "text": [
            "Accuracy of the semi-supervised trained model: 17 %\n"
          ]
        }
      ]
    },
    {
      "cell_type": "markdown",
      "source": [
        "## Local Linear Propagation\n"
      ],
      "metadata": {
        "id": "0U0owWU9UHps"
      }
    },
    {
      "cell_type": "code",
      "source": [
        "def LLP_pv(features, labels, k, T, temp, num_labels=10):\n",
        "    # Calculate the distances between each pair of points\n",
        "    mask = torch.where(labels == UNLABELLED)\n",
        "    unlabelled_features = (features[mask])\n",
        "    labelled_features = features[labels != UNLABELLED]\n",
        "    only_labels = labels[labels != UNLABELLED]\n",
        "\n",
        "    distances = torch.cdist(unlabelled_features, labelled_features, p=2)\n",
        "\n",
        "    # Find the k nearest neighbors for each point in x\n",
        "    _, indices = torch.topk(distances, k=min(k, len(only_labels)), largest=False)\n",
        "\n",
        "    # print(f\"LLP indices (shape={indices.shape})\")\n",
        "\n",
        "    piv = PIV(features, temp)\n",
        "\n",
        "    # weights[i, j] is the weight for pseudo-labelled vector i as class j\n",
        "    weights = torch.zeros((len(mask[0]), num_labels)).to(device)\n",
        "\n",
        "    # for i, idxs in enumerate(indices):\n",
        "    #   v = mask[0][i]\n",
        "    #   for j in idxs:\n",
        "    #     rho_vi = 0\n",
        "\n",
        "    #     weight_term = piv[v, j] / rho_vi\n",
        "    #     weights[i][only_labels[j]] += weight_term\n",
        "\n",
        "    # print(f\"piv (shape={piv.shape})\")\n",
        "\n",
        "    rho = torch.zeros(len(unlabelled_features), device=device)\n",
        "    _, T_nearest_indices = torch.topk(distances, k=min(T, len(only_labels)), largest=False)\n",
        "    for vi, tn_to_v_idxs in enumerate(T_nearest_indices):\n",
        "        for j in tn_to_v_idxs:\n",
        "          rho[vi] += piv[vi, j]\n",
        "\n",
        "    # print(f\"llp rho (shape={rho.shape}): {rho}\")\n",
        "\n",
        "    # for v, v_indices in enumerate(indices):\n",
        "    #     for j in range(num_labels):\n",
        "    #         weight_term = 0\n",
        "    #         for i in v_indices:\n",
        "    #             if labels[i] == j:\n",
        "    #                 weight_term += piv[v, i] / rho[v]\n",
        "    #         weights[v, j] = weight_term\n",
        "    #         weights[v, j] /= torch.sum(piv[v])\n",
        "\n",
        "    for v, v_indices in enumerate(indices):\n",
        "        for j in v_indices:\n",
        "            weights[v][only_labels[j]] += piv[v, j] / rho[v]\n",
        "\n",
        "    # print(f\"llp weights (shape={weights.shape}): {weights}\")\n",
        "\n",
        "    probs = weights / weights.sum(axis=1)[:, None]\n",
        "\n",
        "    pseudo_confidence, pseudo_labels = probs.max(axis=1)\n",
        "\n",
        "    pseudo_labels = pseudo_labels.to(device)\n",
        "    pseudo_confidence = pseudo_confidence.to(device)\n",
        "\n",
        "    new_labels = labels.clone()\n",
        "    new_labels[mask] = pseudo_labels\n",
        "\n",
        "    confidence = torch.ones_like(labels, dtype=pseudo_confidence.dtype)\n",
        "    confidence[mask] = pseudo_confidence\n",
        "\n",
        "    return new_labels, confidence\n"
      ],
      "metadata": {
        "id": "1V29ikzZTuzk"
      },
      "execution_count": 53,
      "outputs": []
    },
    {
      "cell_type": "code",
      "source": [
        "criterion = nn.CrossEntropyLoss(reduction='none')\n",
        "clustering_criterion = KMeansClusteringLoss()\n",
        "\n",
        "semi_model_10 = Model()\n",
        "\n",
        "semi_model_10.train()\n",
        "semi_model_10.to(device)\n",
        "\n",
        "optimizer = torch.optim.SGD(semi_model_10.parameters(), lr=0.0001, momentum=0.9)\n",
        "ALPHA = 0.0001 # hyper parameter controlling weight of cluster loss\n",
        "NUM_EPOCHS = 5\n",
        "K = 10\n",
        "T = 25\n",
        "TEMP = 1000\n",
        "\n",
        "losses = []\n",
        "\n",
        "for epoch in range(NUM_EPOCHS):\n",
        "    for i, (images, labels) in enumerate(tqdm(semi_loader_10)):\n",
        "        images = images.to(device)\n",
        "        labels = labels.to(device)\n",
        "\n",
        "        # Forward pass\n",
        "        outputs, features = semi_model_10(images)\n",
        "\n",
        "        # print(f\"features: {features}\")\n",
        "\n",
        "        # pseudo-labelling\n",
        "        # pseudo_labels, confidence = weighted_knn(features, labels, K, TEMP)\n",
        "\n",
        "        pseudo_labels, confidence = LLP_pv(features, labels, K, T, TEMP, 10)\n",
        "\n",
        "        # print(f\"llp pseudolabels (shape={pseudo_labels.shape}): \", pseudo_labels)\n",
        "        # print(f\"llp confidence (shape={confidence.shape}): \", confidence)\n",
        "\n",
        "        features_without_nan = np.nan_to_num(features.cpu().detach().numpy(), 0)\n",
        "\n",
        "        # loss calculation\n",
        "        centroids = KMeans(n_clusters=10, n_init=10).fit(features_without_nan).cluster_centers_\n",
        "        centroids = torch.tensor(centroids).to(device)\n",
        "        cluster_loss = ALPHA * clustering_criterion(features, centroids)\n",
        "\n",
        "        # print('CLUSTER LOSS: ', cluster_loss.mean().item())\n",
        "\n",
        "        ce_loss = criterion(outputs, pseudo_labels)\n",
        "\n",
        "        # print('CE LOSS: ', ce_loss.mean().item())\n",
        "\n",
        "        loss = (confidence * (ce_loss + cluster_loss)).mean()\n",
        "        losses.append(loss.item())\n",
        "\n",
        "        # Backward pass\n",
        "\n",
        "        optimizer.zero_grad()\n",
        "        loss.backward()\n",
        "        optimizer.step()\n",
        "\n",
        "    # Print statistics\n",
        "    print(f\"Epoch {epoch+1}/{10}, Loss: {loss.item():.4f}\")\n",
        "\n"
      ],
      "metadata": {
        "colab": {
          "base_uri": "https://localhost:8080/"
        },
        "id": "qOP-ktprXbiQ",
        "outputId": "e5ab3dbd-412b-44f6-930e-a633c6764539"
      },
      "execution_count": null,
      "outputs": [
        {
          "output_type": "stream",
          "name": "stderr",
          "text": [
            "\r  0%|          | 0/391 [00:00<?, ?it/s]/usr/lib/python3.10/multiprocessing/popen_fork.py:66: RuntimeWarning: os.fork() was called. os.fork() is incompatible with multithreaded code, and JAX is multithreaded, so this will likely lead to a deadlock.\n",
            "  self.pid = os.fork()\n",
            "100%|██████████| 391/391 [08:41<00:00,  1.33s/it]\n"
          ]
        },
        {
          "output_type": "stream",
          "name": "stdout",
          "text": [
            "Epoch 1/10, Loss: 0.5505\n"
          ]
        },
        {
          "output_type": "stream",
          "name": "stderr",
          "text": [
            "\r  0%|          | 0/391 [00:00<?, ?it/s]/usr/lib/python3.10/multiprocessing/popen_fork.py:66: RuntimeWarning: os.fork() was called. os.fork() is incompatible with multithreaded code, and JAX is multithreaded, so this will likely lead to a deadlock.\n",
            "  self.pid = os.fork()\n",
            " 61%|██████    | 238/391 [05:15<03:09,  1.24s/it]"
          ]
        }
      ]
    }
  ]
}
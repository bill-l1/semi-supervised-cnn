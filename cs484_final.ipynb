{
  "cells": [
    {
      "cell_type": "markdown",
      "metadata": {
        "id": "s6fRi3NTHDMe"
      },
      "source": [
        "# Semi-supervised image classification using local label propagation\n",
        "\n",
        "Name:\n",
        "\n",
        "UW Email:"
      ]
    },
    {
      "cell_type": "markdown",
      "metadata": {
        "id": "TlWX52jOG3UI"
      },
      "source": [
        "# Abstract\n",
        "\n",
        "TODO\n"
      ]
    },
    {
      "cell_type": "markdown",
      "metadata": {
        "id": "cfWjvlasG6H2"
      },
      "source": [
        "# Team members & contributions\n",
        "\n",
        "TODO"
      ]
    },
    {
      "cell_type": "code",
      "execution_count": 2,
      "metadata": {
        "id": "Gt4OIkdTOnjJ"
      },
      "outputs": [],
      "source": [
        "import numpy as np\n",
        "import matplotlib.pyplot as plt\n",
        "from tqdm import tqdm\n",
        "\n",
        "import torch\n",
        "import torchvision\n",
        "import torch.nn.functional as F\n",
        "from torch import nn\n",
        "from torch.utils.data import DataLoader\n",
        "import torchvision.transforms as transforms\n",
        "import torchvision.transforms.functional as tF\n",
        "import torchvision.datasets as datasets\n",
        "from torchvision.models import ResNet18_Weights\n",
        "\n",
        "from sklearn.cluster import KMeans"
      ]
    },
    {
      "cell_type": "code",
      "execution_count": 3,
      "metadata": {
        "id": "_SPVK8GKFQ6K"
      },
      "outputs": [],
      "source": [
        "device = torch.device(\"cuda:0\" if torch.cuda.is_available() else \"cpu\")\n",
        "\n",
        "torch.manual_seed(42)\n",
        "np.random.seed(42)"
      ]
    },
    {
      "cell_type": "code",
      "execution_count": 4,
      "metadata": {
        "colab": {
          "base_uri": "https://localhost:8080/"
        },
        "id": "MZpGRyFgzGDT",
        "outputId": "9d99b73d-d684-4e9d-b134-519b4a873092"
      },
      "outputs": [
        {
          "output_type": "stream",
          "name": "stdout",
          "text": [
            "Downloading https://www.cs.toronto.edu/~kriz/cifar-10-python.tar.gz to ./data/cifar-10-python.tar.gz\n"
          ]
        },
        {
          "output_type": "stream",
          "name": "stderr",
          "text": [
            "100%|██████████| 170498071/170498071 [00:02<00:00, 78431548.46it/s]\n"
          ]
        },
        {
          "output_type": "stream",
          "name": "stdout",
          "text": [
            "Extracting ./data/cifar-10-python.tar.gz to ./data\n",
            "Files already downloaded and verified\n"
          ]
        }
      ],
      "source": [
        "# TODO: create more datasets\n",
        "\n",
        "UNLABELLED = -1\n",
        "\n",
        "transform = transforms.Compose([\n",
        "    transforms.Resize(256),\n",
        "    transforms.CenterCrop(224),\n",
        "    transforms.ToTensor(),\n",
        "    transforms.Normalize((0.4914, 0.4822, 0.4465), (0.247, 0.243, 0.261)),\n",
        "])\n",
        "\n",
        "# Load CIFAR-10 datasets\n",
        "cifar_train = datasets.CIFAR10(root='./data', train=True, download=True, transform=transform)\n",
        "cifar_valid = datasets.CIFAR10(root='./data', train=False, download=True, transform=transform)\n",
        "\n",
        "def generate_indices(dataset, pct_labelled=0.1):\n",
        "    num_samples = int(pct_labelled * len(dataset))\n",
        "    return torch.randperm(len(dataset))[:num_samples]\n",
        "\n",
        "\n",
        "\n",
        "# Define datasets for fully supervised learning\n",
        "\n",
        "# 10% of data labelled\n",
        "indices_10 = generate_indices(cifar_train, 0.1)\n",
        "full_dataset_10 = torch.utils.data.Subset(cifar_train, indices_10)\n",
        "full_loader_10 = DataLoader(full_dataset_10, batch_size=128, shuffle=True, num_workers=2)\n",
        "\n",
        "# 5% of data labelled\n",
        "indices_05 = generate_indices(cifar_train, 0.05)\n",
        "full_dataset_05 = torch.utils.data.Subset(cifar_train, indices_05)\n",
        "full_loader_05 = DataLoader(full_dataset_05, batch_size=128, shuffle=True, num_workers=2)\n",
        "\n",
        "# 25% of data labelled\n",
        "indices_25 = generate_indices(cifar_train, 0.25)\n",
        "full_dataset_25 = torch.utils.data.Subset(cifar_train, indices_25)\n",
        "full_loader_25 = DataLoader(full_dataset_25, batch_size=128, shuffle=True, num_workers=2)\n",
        "\n",
        "loader_valid = DataLoader(cifar_valid, batch_size=128, shuffle=False, num_workers=2)"
      ]
    },
    {
      "cell_type": "code",
      "execution_count": 5,
      "metadata": {
        "id": "kShKg8NvDKeM"
      },
      "outputs": [],
      "source": [
        "class Model(nn.Module):\n",
        "    def __init__(self):\n",
        "        super(Model, self).__init__()\n",
        "        self.model = torchvision.models.resnet18(weights=ResNet18_Weights.IMAGENET1K_V1) # initialize weights to make training easier (via transfer learning)\n",
        "        self.model.fc = nn.Identity()\n",
        "        self.fc = nn.Linear(512, 10)\n",
        "\n",
        "    def forward(self, x):\n",
        "        features = self.model(x)\n",
        "        x = self.fc(features)\n",
        "        return x, features"
      ]
    },
    {
      "cell_type": "markdown",
      "metadata": {
        "id": "m6ZDSXBMESb1"
      },
      "source": [
        "# Supervised learning\n",
        "\n",
        "We want to see how well we can do without using the unlabelled data points at all, with a simple supervised model only on that subset of data. This will be the baseline against which we will compare. As stated earlier, we will do this with subsets of labelled data comprising 1%, 5%, and 10% of the data."
      ]
    },
    {
      "cell_type": "code",
      "execution_count": null,
      "metadata": {
        "colab": {
          "base_uri": "https://localhost:8080/"
        },
        "id": "_Bs9Uabhy6nV",
        "outputId": "9f2f7f10-9d4b-4a6b-ef4a-00684e32c40a"
      },
      "outputs": [
        {
          "name": "stderr",
          "output_type": "stream",
          "text": [
            "\r  0%|          | 0/98 [00:00<?, ?it/s]/usr/lib/python3.10/multiprocessing/popen_fork.py:66: RuntimeWarning: os.fork() was called. os.fork() is incompatible with multithreaded code, and JAX is multithreaded, so this will likely lead to a deadlock.\n",
            "  self.pid = os.fork()\n",
            "100%|██████████| 98/98 [00:39<00:00,  2.50it/s]\n"
          ]
        },
        {
          "name": "stdout",
          "output_type": "stream",
          "text": [
            "25% labelled -- Epoch 1/5, Loss: 0.7079\n"
          ]
        },
        {
          "name": "stderr",
          "output_type": "stream",
          "text": [
            "100%|██████████| 98/98 [00:39<00:00,  2.47it/s]\n"
          ]
        },
        {
          "name": "stdout",
          "output_type": "stream",
          "text": [
            "25% labelled -- Epoch 2/5, Loss: 0.4516\n"
          ]
        },
        {
          "name": "stderr",
          "output_type": "stream",
          "text": [
            "100%|██████████| 98/98 [00:44<00:00,  2.21it/s]\n"
          ]
        },
        {
          "name": "stdout",
          "output_type": "stream",
          "text": [
            "25% labelled -- Epoch 3/5, Loss: 0.3191\n"
          ]
        },
        {
          "name": "stderr",
          "output_type": "stream",
          "text": [
            "100%|██████████| 98/98 [00:44<00:00,  2.19it/s]\n"
          ]
        },
        {
          "name": "stdout",
          "output_type": "stream",
          "text": [
            "25% labelled -- Epoch 4/5, Loss: 0.2583\n"
          ]
        },
        {
          "name": "stderr",
          "output_type": "stream",
          "text": [
            "100%|██████████| 98/98 [00:39<00:00,  2.45it/s]\n"
          ]
        },
        {
          "name": "stdout",
          "output_type": "stream",
          "text": [
            "25% labelled -- Epoch 5/5, Loss: 0.1470\n"
          ]
        },
        {
          "name": "stderr",
          "output_type": "stream",
          "text": [
            "100%|██████████| 20/20 [00:07<00:00,  2.51it/s]\n"
          ]
        },
        {
          "name": "stdout",
          "output_type": "stream",
          "text": [
            "5% labelled -- Epoch 1/5, Loss: 1.9391\n"
          ]
        },
        {
          "name": "stderr",
          "output_type": "stream",
          "text": [
            "100%|██████████| 20/20 [00:07<00:00,  2.50it/s]\n"
          ]
        },
        {
          "name": "stdout",
          "output_type": "stream",
          "text": [
            "5% labelled -- Epoch 2/5, Loss: 1.4959\n"
          ]
        },
        {
          "name": "stderr",
          "output_type": "stream",
          "text": [
            "100%|██████████| 20/20 [00:08<00:00,  2.30it/s]\n"
          ]
        },
        {
          "name": "stdout",
          "output_type": "stream",
          "text": [
            "5% labelled -- Epoch 3/5, Loss: 1.0096\n"
          ]
        },
        {
          "name": "stderr",
          "output_type": "stream",
          "text": [
            "100%|██████████| 20/20 [00:08<00:00,  2.41it/s]\n"
          ]
        },
        {
          "name": "stdout",
          "output_type": "stream",
          "text": [
            "5% labelled -- Epoch 4/5, Loss: 0.7878\n"
          ]
        },
        {
          "name": "stderr",
          "output_type": "stream",
          "text": [
            "100%|██████████| 20/20 [00:07<00:00,  2.50it/s]\n"
          ]
        },
        {
          "name": "stdout",
          "output_type": "stream",
          "text": [
            "5% labelled -- Epoch 5/5, Loss: 0.5180\n"
          ]
        },
        {
          "name": "stderr",
          "output_type": "stream",
          "text": [
            "100%|██████████| 40/40 [00:15<00:00,  2.60it/s]\n"
          ]
        },
        {
          "name": "stdout",
          "output_type": "stream",
          "text": [
            "10% labelled -- Epoch 1/5, Loss: 1.4469\n"
          ]
        },
        {
          "name": "stderr",
          "output_type": "stream",
          "text": [
            "100%|██████████| 40/40 [00:15<00:00,  2.58it/s]\n"
          ]
        },
        {
          "name": "stdout",
          "output_type": "stream",
          "text": [
            "10% labelled -- Epoch 2/5, Loss: 0.7835\n"
          ]
        },
        {
          "name": "stderr",
          "output_type": "stream",
          "text": [
            "100%|██████████| 40/40 [00:15<00:00,  2.62it/s]\n"
          ]
        },
        {
          "name": "stdout",
          "output_type": "stream",
          "text": [
            "10% labelled -- Epoch 3/5, Loss: 1.2853\n"
          ]
        },
        {
          "name": "stderr",
          "output_type": "stream",
          "text": [
            "100%|██████████| 40/40 [00:15<00:00,  2.61it/s]\n"
          ]
        },
        {
          "name": "stdout",
          "output_type": "stream",
          "text": [
            "10% labelled -- Epoch 4/5, Loss: 1.1441\n"
          ]
        },
        {
          "name": "stderr",
          "output_type": "stream",
          "text": [
            "100%|██████████| 40/40 [00:15<00:00,  2.62it/s]"
          ]
        },
        {
          "name": "stdout",
          "output_type": "stream",
          "text": [
            "10% labelled -- Epoch 5/5, Loss: 0.8316\n"
          ]
        },
        {
          "name": "stderr",
          "output_type": "stream",
          "text": [
            "\n"
          ]
        }
      ],
      "source": [
        "device = torch.device(\"cuda:0\" if torch.cuda.is_available() else \"cpu\")\n",
        "\n",
        "\n",
        "models = [Model() for i in range(3)]\n",
        "names = [\"25% labelled\", \"5% labelled\", \"10% labelled\"]\n",
        "data_loaders = [full_loader_25, full_loader_05, full_loader_10]\n",
        "losses = [[] for i in range(3)]\n",
        "\n",
        "for model_idx in range(3):\n",
        "    criterion = nn.CrossEntropyLoss()\n",
        "\n",
        "    full_model = models[model_idx]\n",
        "\n",
        "    full_model.train()\n",
        "    full_model.to(device)\n",
        "\n",
        "    optimizer = torch.optim.SGD(full_model.parameters(), lr=0.001, momentum=0.9)\n",
        "    num_epochs = 5\n",
        "\n",
        "    for epoch in range(num_epochs):\n",
        "        for i, (images, labels) in enumerate(tqdm(data_loaders[model_idx])):\n",
        "            images = images.to(device)\n",
        "            labels = labels.to(device)\n",
        "\n",
        "            # Forward pass\n",
        "            outputs, features = full_model(images)\n",
        "\n",
        "            loss = criterion(outputs, labels)\n",
        "            losses[model_idx].append(loss.item())\n",
        "\n",
        "            # Backward pass\n",
        "            optimizer.zero_grad()\n",
        "            loss.backward()\n",
        "            optimizer.step()\n",
        "\n",
        "        # Print statistics\n",
        "        print(f\"{names[model_idx]} -- Epoch {epoch+1}/{num_epochs}, Loss: {loss.item():.4f}\")\n",
        "\n"
      ]
    },
    {
      "cell_type": "code",
      "execution_count": null,
      "metadata": {
        "colab": {
          "base_uri": "https://localhost:8080/",
          "height": 361
        },
        "id": "jfgDjb6GBKZp",
        "outputId": "e9aaf161-efc3-4dcb-e95b-02ec3ce5d525"
      },
      "outputs": [
        {
          "data": {
            "text/plain": [
              "Text(0.5, 1.0, 'Supervised training loss- 10%')"
            ]
          },
          "execution_count": 33,
          "metadata": {},
          "output_type": "execute_result"
        },
        {
          "data": {
            "image/png": "[encoded data removed]",
            "text/plain": [
              "<Figure size 1500x400 with 3 Axes>"
            ]
          },
          "metadata": {},
          "output_type": "display_data"
        }
      ],
      "source": [
        "fig = plt.figure(figsize=(15,4))\n",
        "\n",
        "plt.subplot(133)\n",
        "plt.plot(losses[0], label=names[0])\n",
        "plt.title('Supervised training loss- 25%')\n",
        "plt.subplot(131)\n",
        "plt.plot(losses[1], label=names[1])\n",
        "plt.title('Supervised training loss- 5%')\n",
        "\n",
        "plt.subplot(132)\n",
        "plt.plot(losses[2], label=names[2])\n",
        "plt.title('Supervised training loss- 10%')\n"
      ]
    },
    {
      "cell_type": "code",
      "execution_count": 6,
      "metadata": {
        "id": "MaUUEa56T5AP"
      },
      "outputs": [],
      "source": [
        "# Returns fraction of correct predictions of the model on the given dataset\n",
        "def evaluate_model(model, data_loader):\n",
        "    model.eval()\n",
        "    model.to(device)\n",
        "    correct = 0\n",
        "    total = 0\n",
        "    with torch.no_grad():\n",
        "        for images, labels in data_loader:\n",
        "            images = images.to(device)\n",
        "            labels = labels.to(device)\n",
        "\n",
        "            outputs, _ = model(images)\n",
        "            _, predicted = torch.max(outputs.data, 1)\n",
        "\n",
        "            total += labels.size(0)\n",
        "            correct += (predicted == labels).sum().item()\n",
        "    return correct / total"
      ]
    },
    {
      "cell_type": "code",
      "execution_count": null,
      "metadata": {
        "colab": {
          "base_uri": "https://localhost:8080/"
        },
        "id": "ugsr8pVI8Kfr",
        "outputId": "41f48c09-1f6c-4b6d-8386-00b4249c0ba5"
      },
      "outputs": [
        {
          "name": "stderr",
          "output_type": "stream",
          "text": [
            "/usr/lib/python3.10/multiprocessing/popen_fork.py:66: RuntimeWarning: os.fork() was called. os.fork() is incompatible with multithreaded code, and JAX is multithreaded, so this will likely lead to a deadlock.\n",
            "  self.pid = os.fork()\n"
          ]
        },
        {
          "name": "stdout",
          "output_type": "stream",
          "text": [
            "Accuracy of the supervised model trained on 25% labelled of labels: 89.03999999999999 %\n",
            "Accuracy of the supervised model trained on 5% labelled of labels: 73.89 %\n",
            "Accuracy of the supervised model trained on 10% labelled of labels: 83.21 %\n"
          ]
        }
      ],
      "source": [
        "# Evaluate the models\n",
        "for model_idx in range(3):\n",
        "    pct_correct_supervised_trained = 100 * evaluate_model(models[model_idx], loader_valid)\n",
        "    print(f\"Accuracy of the supervised model trained on {names[model_idx]} of labels: {pct_correct_supervised_trained} %\")\n"
      ]
    },
    {
      "cell_type": "markdown",
      "metadata": {
        "id": "G1hWsMNx7uZI"
      },
      "source": [
        "Of course, we expect an untrained model to be right around 10% of the time, as there are 10 classes."
      ]
    },
    {
      "cell_type": "code",
      "execution_count": null,
      "metadata": {
        "colab": {
          "base_uri": "https://localhost:8080/"
        },
        "id": "_C0hWRf58_2L",
        "outputId": "303624fb-b143-474e-b71d-5d74fbe555e1"
      },
      "outputs": [
        {
          "name": "stdout",
          "output_type": "stream",
          "text": [
            "Accuracy of an untrained model : 10 %\n"
          ]
        }
      ],
      "source": [
        "# Compared to untrained model\n",
        "\n",
        "untrained_model = Model()\n",
        "untrained_model.eval()\n",
        "untrained_model.to(device)\n",
        "\n",
        "# Evaluate the model\n",
        "correct = 0\n",
        "total = 0\n",
        "with torch.no_grad():\n",
        "    for images, labels in loader_valid:\n",
        "        images = images.to(device)\n",
        "        labels = labels.to(device)\n",
        "\n",
        "        outputs, _ = untrained_model(images)\n",
        "        _, predicted = torch.max(outputs.data, 1)\n",
        "\n",
        "        total += labels.size(0)\n",
        "        correct += (predicted == labels).sum().item()\n",
        "\n",
        "print('Accuracy of an untrained model : %d %%' % (100 * correct / total))\n"
      ]
    },
    {
      "cell_type": "markdown",
      "metadata": {
        "id": "3Gtb3vj4Egj2"
      },
      "source": [
        "# Semi-supervised learning"
      ]
    },
    {
      "cell_type": "code",
      "execution_count": 7,
      "metadata": {
        "id": "8q4EVfFCcqX1"
      },
      "outputs": [],
      "source": [
        "# Custom dataset for semi-supervised learning\n",
        "class SemiSupervised(torch.utils.data.Dataset):\n",
        "    def __init__(self, labeled_dataset, indices):\n",
        "        self.labeled_dataset = labeled_dataset\n",
        "        self.labeled_indices = indices\n",
        "\n",
        "    def __getitem__(self, index):\n",
        "        if index in self.labeled_indices:\n",
        "            return self.labeled_dataset[index]\n",
        "        else:\n",
        "            img, label = self.labeled_dataset[index]\n",
        "            return img, UNLABELLED\n",
        "\n",
        "    def __len__(self):\n",
        "        return len(self.labeled_dataset)\n",
        "\n",
        "# Create semi-supervised datasets\n",
        "semi_dataset_10 = SemiSupervised(\n",
        "    labeled_dataset=cifar_train,\n",
        "    indices=indices_10\n",
        ")\n",
        "\n",
        "semi_dataset_05 = SemiSupervised(\n",
        "    labeled_dataset=cifar_train,\n",
        "    indices=indices_05\n",
        ")\n",
        "\n",
        "semi_dataset_25 = SemiSupervised(\n",
        "    labeled_dataset=cifar_train,\n",
        "    indices=indices_25\n",
        ")\n",
        "\n",
        "semi_loader_10 = DataLoader(semi_dataset_10, batch_size=128, shuffle=True, num_workers=2)\n",
        "semi_loader_05 = DataLoader(semi_dataset_05, batch_size=128, shuffle=True, num_workers=2)\n",
        "semi_loader_25 = DataLoader(semi_dataset_25, batch_size=128, shuffle=True, num_workers=2)"
      ]
    },
    {
      "cell_type": "code",
      "execution_count": 8,
      "metadata": {
        "id": "EByz4Mg9Udzz"
      },
      "outputs": [],
      "source": [
        "# non-parametric softmax operation by Wu et. al.\n",
        "# axis 0: v, axis 1: i\n",
        "def PIV(features, temp):\n",
        "  upper = torch.exp(torch.matmul(features, features.T) / temp)\n",
        "  denom = upper.sum(axis=1)\n",
        "  return upper / denom\n",
        "\n",
        "def weighted_knn(features, labels, k, temp):\n",
        "  # Calculate the distances between each pair of points\n",
        "    mask = torch.where(labels == UNLABELLED)\n",
        "    unlabelled_features = (features[mask])\n",
        "    labelled_features = features[labels != UNLABELLED]\n",
        "    only_labels = labels[labels != UNLABELLED]\n",
        "\n",
        "    distances = torch.cdist(unlabelled_features, labelled_features, p=2)\n",
        "\n",
        "    # Find the k nearest neighbors for each point in x\n",
        "    _, indices = torch.topk(distances, k=min(k, len(only_labels)), largest=False)\n",
        "\n",
        "    piv = PIV(features, temp)\n",
        "\n",
        "    weights = torch.zeros((len(mask[0]), 10))\n",
        "    weights = weights.to(device)\n",
        "\n",
        "    for i, idxs in enumerate(indices):\n",
        "      v = mask[0][i]\n",
        "      for j in idxs:\n",
        "        weights[i][only_labels[j]] += piv[v, j]\n",
        "\n",
        "    probs = weights / weights.sum(axis=1)[:, None]\n",
        "\n",
        "    pseudo_confidence, pseudo_labels = probs.max(axis=1)\n",
        "\n",
        "    pseudo_labels = pseudo_labels.to(device)\n",
        "    pseudo_confidence = pseudo_confidence.to(device)\n",
        "\n",
        "    new_labels = labels.clone()\n",
        "    new_labels[mask] = pseudo_labels\n",
        "\n",
        "    confidence = torch.ones_like(labels, dtype=pseudo_confidence.dtype)\n",
        "    confidence[mask] = pseudo_confidence\n",
        "\n",
        "    return new_labels, confidence\n",
        "\n"
      ]
    },
    {
      "cell_type": "code",
      "execution_count": 9,
      "metadata": {
        "id": "txWX7c4qvuPj"
      },
      "outputs": [],
      "source": [
        "class KMeansClusteringLoss(torch.nn.Module):\n",
        "    def __init__(self):\n",
        "        super(KMeansClusteringLoss, self).__init__()\n",
        "\n",
        "    def forward(self, features, centroids):\n",
        "        n = features.shape[0]\n",
        "        d = features.shape[1]\n",
        "        k = centroids.shape[0]\n",
        "\n",
        "        z = features.reshape(n, 1, d)\n",
        "        z = z.repeat(1, k, 1)\n",
        "\n",
        "        mu = centroids.reshape(1, k, d)\n",
        "        mu = mu.repeat(n, 1, 1)\n",
        "\n",
        "        dist = (z - mu).norm(2, dim=2).reshape((n, k))\n",
        "        loss = (dist.min(dim=1)[0] ** 2)\n",
        "\n",
        "        return loss"
      ]
    },
    {
      "cell_type": "code",
      "execution_count": null,
      "metadata": {
        "colab": {
          "base_uri": "https://localhost:8080/"
        },
        "id": "h5dyf4jtEm5T",
        "outputId": "c863f47b-acf6-400d-ac53-fa099e87fd6a"
      },
      "outputs": [
        {
          "name": "stderr",
          "output_type": "stream",
          "text": [
            "\r  0%|          | 0/391 [00:00<?, ?it/s]/usr/lib/python3.10/multiprocessing/popen_fork.py:66: RuntimeWarning: os.fork() was called. os.fork() is incompatible with multithreaded code, and JAX is multithreaded, so this will likely lead to a deadlock.\n",
            "  self.pid = os.fork()\n",
            "100%|██████████| 391/391 [05:31<00:00,  1.18it/s]\n"
          ]
        },
        {
          "name": "stdout",
          "output_type": "stream",
          "text": [
            "Epoch 1/10, Loss: 1.7275\n"
          ]
        },
        {
          "name": "stderr",
          "output_type": "stream",
          "text": [
            "\r  0%|          | 0/391 [00:00<?, ?it/s]/usr/lib/python3.10/multiprocessing/popen_fork.py:66: RuntimeWarning: os.fork() was called. os.fork() is incompatible with multithreaded code, and JAX is multithreaded, so this will likely lead to a deadlock.\n",
            "  self.pid = os.fork()\n",
            "100%|██████████| 391/391 [05:43<00:00,  1.38it/s]/usr/lib/python3.10/multiprocessing/popen_fork.py:66: RuntimeWarning: os.fork() was called. os.fork() is incompatible with multithreaded code, and JAX is multithreaded, so this will likely lead to a deadlock.\n",
            "  self.pid = os.fork()\n",
            "100%|██████████| 391/391 [05:44<00:00,  1.14it/s]\n"
          ]
        },
        {
          "name": "stdout",
          "output_type": "stream",
          "text": [
            "Epoch 2/10, Loss: 1.0891\n"
          ]
        },
        {
          "name": "stderr",
          "output_type": "stream",
          "text": [
            "\r  0%|          | 0/391 [00:00<?, ?it/s]/usr/lib/python3.10/multiprocessing/popen_fork.py:66: RuntimeWarning: os.fork() was called. os.fork() is incompatible with multithreaded code, and JAX is multithreaded, so this will likely lead to a deadlock.\n",
            "  self.pid = os.fork()\n",
            "100%|██████████| 391/391 [06:16<00:00,  1.04it/s]\n"
          ]
        },
        {
          "name": "stdout",
          "output_type": "stream",
          "text": [
            "Epoch 3/10, Loss: 1.0643\n"
          ]
        },
        {
          "name": "stderr",
          "output_type": "stream",
          "text": [
            "\r  0%|          | 0/391 [00:00<?, ?it/s]/usr/lib/python3.10/multiprocessing/popen_fork.py:66: RuntimeWarning: os.fork() was called. os.fork() is incompatible with multithreaded code, and JAX is multithreaded, so this will likely lead to a deadlock.\n",
            "  self.pid = os.fork()\n",
            "100%|██████████| 391/391 [05:52<00:00,  1.11it/s]\n"
          ]
        },
        {
          "name": "stdout",
          "output_type": "stream",
          "text": [
            "Epoch 4/10, Loss: 0.9818\n"
          ]
        },
        {
          "name": "stderr",
          "output_type": "stream",
          "text": [
            "\r  0%|          | 0/391 [00:00<?, ?it/s]/usr/lib/python3.10/multiprocessing/popen_fork.py:66: RuntimeWarning: os.fork() was called. os.fork() is incompatible with multithreaded code, and JAX is multithreaded, so this will likely lead to a deadlock.\n",
            "  self.pid = os.fork()\n",
            "100%|██████████| 391/391 [06:08<00:00,  1.32it/s]/usr/lib/python3.10/multiprocessing/popen_fork.py:66: RuntimeWarning: os.fork() was called. os.fork() is incompatible with multithreaded code, and JAX is multithreaded, so this will likely lead to a deadlock.\n",
            "  self.pid = os.fork()\n",
            "100%|██████████| 391/391 [06:08<00:00,  1.06it/s]"
          ]
        },
        {
          "name": "stdout",
          "output_type": "stream",
          "text": [
            "Epoch 5/10, Loss: 0.7887\n"
          ]
        },
        {
          "name": "stderr",
          "output_type": "stream",
          "text": [
            "\n"
          ]
        }
      ],
      "source": [
        "criterion = nn.CrossEntropyLoss(reduction='none')\n",
        "clustering_criterion = KMeansClusteringLoss()\n",
        "\n",
        "semi_model_10 = Model()\n",
        "\n",
        "semi_model_10.train()\n",
        "semi_model_10.to(device)\n",
        "\n",
        "optimizer = torch.optim.SGD(semi_model_10.parameters(), lr=0.0001, momentum=0.9)\n",
        "ALPHA = 0.01 # hyper parameter controlling weight of cluster loss\n",
        "NUM_EPOCHS = 5\n",
        "K = 10\n",
        "TEMP = 25\n",
        "\n",
        "losses = []\n",
        "\n",
        "for epoch in range(NUM_EPOCHS):\n",
        "    for i, (images, labels) in enumerate(tqdm(semi_loader_10)):\n",
        "        images = images.to(device)\n",
        "        labels = labels.to(device)\n",
        "\n",
        "        # Forward pass\n",
        "        outputs, features = semi_model_10(images)\n",
        "\n",
        "        # pseudo-labelling\n",
        "        pseudo_labels, confidence = weighted_knn(features, labels, K, TEMP)\n",
        "\n",
        "        # loss calculation\n",
        "        centroids = KMeans(n_clusters=10, n_init=10).fit(features.cpu().detach().numpy()).cluster_centers_\n",
        "        centroids = torch.tensor(centroids).to(device)\n",
        "        cluster_loss = ALPHA * clustering_criterion(features, centroids)\n",
        "\n",
        "        # print('CLUSTER LOSS: ', cluster_loss.mean().item())\n",
        "\n",
        "        ce_loss = criterion(outputs, pseudo_labels)\n",
        "\n",
        "        # print('CE LOSS: ', ce_loss.mean().item())\n",
        "\n",
        "        loss = (confidence * (ce_loss + cluster_loss)).mean()\n",
        "        losses.append(loss.item())\n",
        "\n",
        "        # Backward pass\n",
        "\n",
        "        optimizer.zero_grad()\n",
        "        loss.backward()\n",
        "        optimizer.step()\n",
        "\n",
        "    # Print statistics\n",
        "    print(f\"Epoch {epoch+1}/{NUM_EPOCHS}, Loss: {loss.item():.4f}\")\n",
        "\n"
      ]
    },
    {
      "cell_type": "code",
      "execution_count": null,
      "metadata": {
        "colab": {
          "base_uri": "https://localhost:8080/",
          "height": 472
        },
        "id": "tffQpBjyF2hM",
        "outputId": "23bb786f-9984-4311-e805-394f12af601b"
      },
      "outputs": [
        {
          "data": {
            "image/png": "[encoded data removed]",
            "text/plain": [
              "<Figure size 640x480 with 1 Axes>"
            ]
          },
          "metadata": {},
          "output_type": "display_data"
        }
      ],
      "source": [
        "plt.plot(losses)\n",
        "plt.title('Semi-supervised training loss')\n",
        "plt.ylabel('Loss')\n",
        "plt.xlabel('Iteration')\n",
        "plt.show()\n"
      ]
    },
    {
      "cell_type": "code",
      "execution_count": null,
      "metadata": {
        "colab": {
          "base_uri": "https://localhost:8080/"
        },
        "id": "Qqzp8lUQefmH",
        "outputId": "e1e9e764-6b3d-4b5f-c1d4-f9b0672f9302"
      },
      "outputs": [
        {
          "name": "stderr",
          "output_type": "stream",
          "text": [
            "/usr/lib/python3.10/multiprocessing/popen_fork.py:66: RuntimeWarning: os.fork() was called. os.fork() is incompatible with multithreaded code, and JAX is multithreaded, so this will likely lead to a deadlock.\n",
            "  self.pid = os.fork()\n"
          ]
        },
        {
          "name": "stdout",
          "output_type": "stream",
          "text": [
            "Accuracy of the semi-supervised trained model: 17 %\n"
          ]
        }
      ],
      "source": [
        "# Evaluate the model\n",
        "semi_model_10.eval()\n",
        "correct = 0\n",
        "total = 0\n",
        "with torch.no_grad():\n",
        "    for images, labels in loader_valid:\n",
        "        images = images.to(device)\n",
        "        labels = labels.to(device)\n",
        "\n",
        "        outputs, _ = semi_model_10(images)\n",
        "        _, predicted = torch.max(outputs.data, 1)\n",
        "\n",
        "        total += labels.size(0)\n",
        "        correct += (predicted == labels).sum().item()\n",
        "\n",
        "print('Accuracy of the semi-supervised trained model: %d %%' % (100 * correct / total))\n"
      ]
    },
    {
      "cell_type": "markdown",
      "metadata": {
        "id": "0U0owWU9UHps"
      },
      "source": [
        "## Local Linear Propagation\n"
      ]
    },
    {
      "cell_type": "code",
      "execution_count": 31,
      "metadata": {
        "id": "1V29ikzZTuzk"
      },
      "outputs": [],
      "source": [
        "def LLP_pv(features, labels, k, T, temp, num_labels=10):\n",
        "    # Calculate the distances between each pair of points\n",
        "    mask = torch.where(labels == UNLABELLED)\n",
        "    unlabelled_features = (features[mask])\n",
        "    labelled_features = features[labels != UNLABELLED]\n",
        "    only_labels = labels[labels != UNLABELLED]\n",
        "\n",
        "    distances = torch.cdist(unlabelled_features, labelled_features, p=2)\n",
        "\n",
        "    # Find the k nearest neighbors for each point in x\n",
        "    # _, indices = torch.topk(distances, k=min(k, len(only_labels)), largest=False)\n",
        "\n",
        "    # print(f\"LLP indices (shape={indices.shape})\")\n",
        "\n",
        "    piv = PIV(features, temp)\n",
        "\n",
        "    # weights[i, j] is the weight for pseudo-labelled vector i as class j\n",
        "    weights = torch.zeros((len(mask[0]), num_labels)).to(device)\n",
        "\n",
        "    # for i, idxs in enumerate(indices):\n",
        "    #   v = mask[0][i]\n",
        "    #   for j in idxs:\n",
        "    #     rho_vi = 0\n",
        "\n",
        "    #     weight_term = piv[v, j] / rho_vi\n",
        "    #     weights[i][only_labels[j]] += weight_term\n",
        "\n",
        "    # print(f\"piv (shape={piv.shape})\")\n",
        "\n",
        "    rho = torch.zeros(len(unlabelled_features), device=device)\n",
        "    _, T_nearest_indices = torch.topk(distances, k=min(max(T, K), len(only_labels)), largest=False)\n",
        "    for vi, tn_to_v_idxs in enumerate(T_nearest_indices):\n",
        "        for j in tn_to_v_idxs:\n",
        "          rho[vi] += piv[vi, j]\n",
        "\n",
        "    # print(f\"llp rho (shape={rho.shape}): {rho}\")\n",
        "\n",
        "    # for v, v_indices in enumerate(indices):\n",
        "    #     for j in range(num_labels):\n",
        "    #         weight_term = 0\n",
        "    #         for i in v_indices:\n",
        "    #             if labels[i] == j:\n",
        "    #                 weight_term += piv[v, i] / rho[v]\n",
        "    #         weights[v, j] = weight_term\n",
        "    #         weights[v, j] /= torch.sum(piv[v])\n",
        "\n",
        "    for v, v_indices in enumerate(T_nearest_indices[:, :min(K, T_nearest_indices.shape[1])]):\n",
        "        for j in v_indices:\n",
        "            weights[v][only_labels[j]] += piv[v, j] / rho[v]\n",
        "\n",
        "    # print(f\"llp weights (shape={weights.shape}): {weights}\")\n",
        "\n",
        "\n",
        "    probs = weights / weights.sum(axis=1)[:, None]\n",
        "    numerator = torch.exp(weights)\n",
        "    # print(f\"numerator (shape={numerator.shape})\")\n",
        "    denominator = torch.sum(numerator, axis=1)\n",
        "    # print(f\"denominator (shape={denominator.shape})\")\n",
        "    probs = (numerator.T / denominator).T\n",
        "    # print(f\"probs (shape={probs.shape}): {probs}\")\n",
        "    # print(f\"probs[0] = {probs[0, :]}\")\n",
        "\n",
        "    pseudo_confidence, pseudo_labels = probs.max(axis=1)\n",
        "\n",
        "    pseudo_labels = pseudo_labels.to(device)\n",
        "    pseudo_confidence = pseudo_confidence.to(device)\n",
        "\n",
        "    new_labels = labels.clone()\n",
        "    new_labels[mask] = pseudo_labels\n",
        "\n",
        "    confidence = torch.ones_like(labels, dtype=pseudo_confidence.dtype)\n",
        "    confidence[mask] = pseudo_confidence\n",
        "\n",
        "    return new_labels, confidence"
      ]
    },
    {
      "cell_type": "code",
      "execution_count": null,
      "metadata": {
        "colab": {
          "base_uri": "https://localhost:8080/"
        },
        "id": "qOP-ktprXbiQ",
        "outputId": "df32ab79-1f00-441b-e338-bd235dfc1c61"
      },
      "outputs": [
        {
          "name": "stderr",
          "output_type": "stream",
          "text": [
            "\r  0%|          | 0/391 [00:00<?, ?it/s]/usr/lib/python3.10/multiprocessing/popen_fork.py:66: RuntimeWarning: os.fork() was called. os.fork() is incompatible with multithreaded code, and JAX is multithreaded, so this will likely lead to a deadlock.\n",
            "  self.pid = os.fork()\n",
            "100%|██████████| 391/391 [06:42<00:00,  1.03s/it]\n"
          ]
        },
        {
          "name": "stdout",
          "output_type": "stream",
          "text": [
            "Epoch 1/10, Loss: 1.5929\n"
          ]
        },
        {
          "name": "stderr",
          "output_type": "stream",
          "text": [
            "\r  0%|          | 0/391 [00:00<?, ?it/s]/usr/lib/python3.10/multiprocessing/popen_fork.py:66: RuntimeWarning: os.fork() was called. os.fork() is incompatible with multithreaded code, and JAX is multithreaded, so this will likely lead to a deadlock.\n",
            "  self.pid = os.fork()\n",
            "100%|██████████| 391/391 [06:33<00:00,  1.01s/it]\n"
          ]
        },
        {
          "name": "stdout",
          "output_type": "stream",
          "text": [
            "Epoch 2/10, Loss: 1.1152\n"
          ]
        },
        {
          "name": "stderr",
          "output_type": "stream",
          "text": [
            "\r  0%|          | 0/391 [00:00<?, ?it/s]/usr/lib/python3.10/multiprocessing/popen_fork.py:66: RuntimeWarning: os.fork() was called. os.fork() is incompatible with multithreaded code, and JAX is multithreaded, so this will likely lead to a deadlock.\n",
            "  self.pid = os.fork()\n",
            "100%|██████████| 391/391 [06:31<00:00,  1.14it/s]/usr/lib/python3.10/multiprocessing/popen_fork.py:66: RuntimeWarning: os.fork() was called. os.fork() is incompatible with multithreaded code, and JAX is multithreaded, so this will likely lead to a deadlock.\n",
            "  self.pid = os.fork()\n",
            "100%|██████████| 391/391 [06:31<00:00,  1.00s/it]\n"
          ]
        },
        {
          "name": "stdout",
          "output_type": "stream",
          "text": [
            "Epoch 3/10, Loss: 1.0282\n"
          ]
        },
        {
          "name": "stderr",
          "output_type": "stream",
          "text": [
            "\r  0%|          | 0/391 [00:00<?, ?it/s]/usr/lib/python3.10/multiprocessing/popen_fork.py:66: RuntimeWarning: os.fork() was called. os.fork() is incompatible with multithreaded code, and JAX is multithreaded, so this will likely lead to a deadlock.\n",
            "  self.pid = os.fork()\n",
            "100%|██████████| 391/391 [06:29<00:00,  1.00it/s]\n"
          ]
        },
        {
          "name": "stdout",
          "output_type": "stream",
          "text": [
            "Epoch 4/10, Loss: 1.0088\n"
          ]
        },
        {
          "name": "stderr",
          "output_type": "stream",
          "text": [
            "\r  0%|          | 0/391 [00:00<?, ?it/s]/usr/lib/python3.10/multiprocessing/popen_fork.py:66: RuntimeWarning: os.fork() was called. os.fork() is incompatible with multithreaded code, and JAX is multithreaded, so this will likely lead to a deadlock.\n",
            "  self.pid = os.fork()\n",
            "100%|██████████| 391/391 [06:47<00:00,  1.04s/it]"
          ]
        },
        {
          "name": "stdout",
          "output_type": "stream",
          "text": [
            "Epoch 5/10, Loss: 0.9850\n"
          ]
        },
        {
          "name": "stderr",
          "output_type": "stream",
          "text": [
            "\n"
          ]
        }
      ],
      "source": [
        "criterion = nn.CrossEntropyLoss(reduction='none')\n",
        "clustering_criterion = KMeansClusteringLoss()\n",
        "\n",
        "semi_model_10 = Model()\n",
        "\n",
        "semi_model_10.train()\n",
        "semi_model_10.to(device)\n",
        "\n",
        "optimizer = torch.optim.SGD(semi_model_10.parameters(), lr=0.0001, momentum=0.9)\n",
        "ALPHA = 0.0001 # hyper parameter controlling weight of cluster loss\n",
        "NUM_EPOCHS = 5\n",
        "K = 5\n",
        "T = 10\n",
        "TEMP = 50\n",
        "\n",
        "losses = []\n",
        "\n",
        "for epoch in range(NUM_EPOCHS):\n",
        "    for i, (images, labels) in enumerate(tqdm(semi_loader_10)):\n",
        "        images = images.to(device)\n",
        "        labels = labels.to(device)\n",
        "\n",
        "        # Forward pass\n",
        "        outputs, features = semi_model_10(images)\n",
        "\n",
        "        # print(f\"features: {features}\")\n",
        "\n",
        "        # pseudo-labelling\n",
        "        # pseudo_labels, confidence = weighted_knn(features, labels, K, TEMP)\n",
        "\n",
        "        pseudo_labels, confidence = LLP_pv(features, labels, K, T, TEMP, 10)\n",
        "\n",
        "        # print(f\"llp pseudolabels (shape={pseudo_labels.shape}): \", pseudo_labels)\n",
        "        # print(f\"llp confidence (shape={confidence.shape}): \", confidence)\n",
        "\n",
        "        features_without_nan = np.nan_to_num(features.cpu().detach().numpy(), 0)\n",
        "\n",
        "        # loss calculation\n",
        "        centroids = KMeans(n_clusters=10, n_init=10).fit(features_without_nan).cluster_centers_\n",
        "        centroids = torch.tensor(centroids).to(device)\n",
        "        cluster_loss = ALPHA * clustering_criterion(features, centroids)\n",
        "\n",
        "        # print('CLUSTER LOSS: ', cluster_loss.mean().item())\n",
        "\n",
        "        ce_loss = criterion(outputs, pseudo_labels)\n",
        "\n",
        "        # print('CE LOSS: ', ce_loss.mean().item())\n",
        "\n",
        "        loss = (confidence * (ce_loss + cluster_loss)).mean()\n",
        "        losses.append(loss.item())\n",
        "\n",
        "        # Backward pass\n",
        "\n",
        "        optimizer.zero_grad()\n",
        "        loss.backward()\n",
        "        optimizer.step()\n",
        "\n",
        "    # Print statistics\n",
        "    print(f\"Epoch {epoch+1}/{10}, Loss: {loss.item():.4f}\")\n",
        "\n"
      ]
    },
    {
      "cell_type": "code",
      "execution_count": null,
      "metadata": {
        "colab": {
          "base_uri": "https://localhost:8080/",
          "height": 472
        },
        "id": "Q89zOplW2npw",
        "outputId": "edc0b7fd-b1b3-4790-9ff7-02a3c8e73f3d"
      },
      "outputs": [
        {
          "data": {
            "image/png": "[encoded data removed]",
            "text/plain": [
              "<Figure size 640x480 with 1 Axes>"
            ]
          },
          "metadata": {},
          "output_type": "display_data"
        }
      ],
      "source": [
        "plt.plot(losses)\n",
        "plt.title('Semi-supervised training loss')\n",
        "plt.ylabel('Loss')\n",
        "plt.xlabel('Iteration')\n",
        "plt.show()\n"
      ]
    },
    {
      "cell_type": "code",
      "execution_count": null,
      "metadata": {
        "colab": {
          "base_uri": "https://localhost:8080/"
        },
        "id": "a3gVvobm2cOV",
        "outputId": "f7bb2e2c-4c35-4f4f-8f6e-cf26bc0df546"
      },
      "outputs": [
        {
          "name": "stderr",
          "output_type": "stream",
          "text": [
            "/usr/lib/python3.10/multiprocessing/popen_fork.py:66: RuntimeWarning: os.fork() was called. os.fork() is incompatible with multithreaded code, and JAX is multithreaded, so this will likely lead to a deadlock.\n",
            "  self.pid = os.fork()\n"
          ]
        },
        {
          "name": "stdout",
          "output_type": "stream",
          "text": [
            "Accuracy of the supervised model trained on 10% of labels: 30.81 %\n"
          ]
        }
      ],
      "source": [
        "pct_correct_supervised_trained = 100 * evaluate_model(semi_model_10, loader_valid)\n",
        "print(f\"Accuracy of the supervised model trained on 10% of labels: {pct_correct_supervised_trained} %\")"
      ]
    },
    {
      "cell_type": "code",
      "execution_count": null,
      "metadata": {
        "id": "LETGIPue-q2z"
      },
      "outputs": [],
      "source": [
        "import pickle\n",
        "\n",
        "with open('model.pkl', 'wb') as f:\n",
        "    pickle.dump(semi_model_10, f)"
      ]
    },
    {
      "cell_type": "code",
      "execution_count": 32,
      "metadata": {
        "colab": {
          "base_uri": "https://localhost:8080/"
        },
        "id": "2d-r3ueSBLWT",
        "outputId": "99b66804-3941-4a68-f231-3399831ac536"
      },
      "outputs": [
        {
          "output_type": "stream",
          "name": "stderr",
          "text": [
            "\r  0%|          | 0/391 [00:00<?, ?it/s]/usr/lib/python3.10/multiprocessing/popen_fork.py:66: RuntimeWarning: os.fork() was called. os.fork() is incompatible with multithreaded code, and JAX is multithreaded, so this will likely lead to a deadlock.\n",
            "  self.pid = os.fork()\n",
            "100%|██████████| 391/391 [06:28<00:00,  1.10it/s]/usr/lib/python3.10/multiprocessing/popen_fork.py:66: RuntimeWarning: os.fork() was called. os.fork() is incompatible with multithreaded code, and JAX is multithreaded, so this will likely lead to a deadlock.\n",
            "  self.pid = os.fork()\n",
            "100%|██████████| 391/391 [06:28<00:00,  1.01it/s]\n"
          ]
        },
        {
          "output_type": "stream",
          "name": "stdout",
          "text": [
            "Epoch 1/10, Loss: 0.4729\n"
          ]
        },
        {
          "output_type": "stream",
          "name": "stderr",
          "text": [
            "\r  0%|          | 0/391 [00:00<?, ?it/s]/usr/lib/python3.10/multiprocessing/popen_fork.py:66: RuntimeWarning: os.fork() was called. os.fork() is incompatible with multithreaded code, and JAX is multithreaded, so this will likely lead to a deadlock.\n",
            "  self.pid = os.fork()\n",
            "100%|██████████| 391/391 [06:28<00:00,  1.18it/s]/usr/lib/python3.10/multiprocessing/popen_fork.py:66: RuntimeWarning: os.fork() was called. os.fork() is incompatible with multithreaded code, and JAX is multithreaded, so this will likely lead to a deadlock.\n",
            "  self.pid = os.fork()\n",
            "100%|██████████| 391/391 [06:28<00:00,  1.01it/s]\n"
          ]
        },
        {
          "output_type": "stream",
          "name": "stdout",
          "text": [
            "Epoch 2/10, Loss: 0.4776\n"
          ]
        },
        {
          "output_type": "stream",
          "name": "stderr",
          "text": [
            "\r  0%|          | 0/391 [00:00<?, ?it/s]/usr/lib/python3.10/multiprocessing/popen_fork.py:66: RuntimeWarning: os.fork() was called. os.fork() is incompatible with multithreaded code, and JAX is multithreaded, so this will likely lead to a deadlock.\n",
            "  self.pid = os.fork()\n",
            "100%|██████████| 391/391 [06:27<00:00,  1.21it/s]/usr/lib/python3.10/multiprocessing/popen_fork.py:66: RuntimeWarning: os.fork() was called. os.fork() is incompatible with multithreaded code, and JAX is multithreaded, so this will likely lead to a deadlock.\n",
            "  self.pid = os.fork()\n",
            "100%|██████████| 391/391 [06:27<00:00,  1.01it/s]\n"
          ]
        },
        {
          "output_type": "stream",
          "name": "stdout",
          "text": [
            "Epoch 3/10, Loss: 0.4344\n"
          ]
        },
        {
          "output_type": "stream",
          "name": "stderr",
          "text": [
            "\r  0%|          | 0/391 [00:00<?, ?it/s]/usr/lib/python3.10/multiprocessing/popen_fork.py:66: RuntimeWarning: os.fork() was called. os.fork() is incompatible with multithreaded code, and JAX is multithreaded, so this will likely lead to a deadlock.\n",
            "  self.pid = os.fork()\n",
            "100%|██████████| 391/391 [06:34<00:00,  1.33s/it]/usr/lib/python3.10/multiprocessing/popen_fork.py:66: RuntimeWarning: os.fork() was called. os.fork() is incompatible with multithreaded code, and JAX is multithreaded, so this will likely lead to a deadlock.\n",
            "  self.pid = os.fork()\n",
            "100%|██████████| 391/391 [06:34<00:00,  1.01s/it]\n"
          ]
        },
        {
          "output_type": "stream",
          "name": "stdout",
          "text": [
            "Epoch 4/10, Loss: 0.4221\n"
          ]
        },
        {
          "output_type": "stream",
          "name": "stderr",
          "text": [
            "\r  0%|          | 0/391 [00:00<?, ?it/s]/usr/lib/python3.10/multiprocessing/popen_fork.py:66: RuntimeWarning: os.fork() was called. os.fork() is incompatible with multithreaded code, and JAX is multithreaded, so this will likely lead to a deadlock.\n",
            "  self.pid = os.fork()\n",
            "100%|██████████| 391/391 [06:41<00:00,  1.03s/it]"
          ]
        },
        {
          "output_type": "stream",
          "name": "stdout",
          "text": [
            "Epoch 5/10, Loss: 0.5004\n"
          ]
        },
        {
          "output_type": "stream",
          "name": "stderr",
          "text": [
            "\n"
          ]
        }
      ],
      "source": [
        "criterion = nn.CrossEntropyLoss(reduction='none')\n",
        "clustering_criterion = KMeansClusteringLoss()\n",
        "\n",
        "semi_model_05 = Model()\n",
        "\n",
        "semi_model_05.train()\n",
        "semi_model_05.to(device)\n",
        "\n",
        "optimizer = torch.optim.SGD(semi_model_05.parameters(), lr=0.0001, momentum=0.9)\n",
        "ALPHA = 0.0001 # hyper parameter controlling weight of cluster loss\n",
        "NUM_EPOCHS = 5\n",
        "K = 5\n",
        "T = 10\n",
        "TEMP = 50\n",
        "\n",
        "losses = []\n",
        "\n",
        "for epoch in range(NUM_EPOCHS):\n",
        "    for i, (images, labels) in enumerate(tqdm(semi_loader_05)):\n",
        "        images = images.to(device)\n",
        "        labels = labels.to(device)\n",
        "\n",
        "        # Forward pass\n",
        "        outputs, features = semi_model_05(images)\n",
        "\n",
        "        # print(f\"features: {features}\")\n",
        "\n",
        "        # pseudo-labelling\n",
        "        # pseudo_labels, confidence = weighted_knn(features, labels, K, TEMP)\n",
        "\n",
        "        pseudo_labels, confidence = LLP_pv(features, labels, K, T, TEMP, 10)\n",
        "\n",
        "        # print(f\"llp pseudolabels (shape={pseudo_labels.shape}): \", pseudo_labels)\n",
        "        # print(f\"llp confidence (shape={confidence.shape}): \", confidence)\n",
        "\n",
        "        # loss calculation\n",
        "        centroids = KMeans(n_clusters=10, n_init=10).fit(features.cpu().detach().numpy()).cluster_centers_\n",
        "        centroids = torch.tensor(centroids).to(device)\n",
        "        cluster_loss = ALPHA * clustering_criterion(features, centroids)\n",
        "\n",
        "        # print('CLUSTER LOSS: ', cluster_loss.mean().item())\n",
        "\n",
        "        ce_loss = criterion(outputs, pseudo_labels)\n",
        "\n",
        "        # print('CE LOSS: ', ce_loss.mean().item())\n",
        "\n",
        "        loss = (confidence * (ce_loss + cluster_loss)).mean()\n",
        "        losses.append(loss.item())\n",
        "\n",
        "        # Backward pass\n",
        "\n",
        "        optimizer.zero_grad()\n",
        "        loss.backward()\n",
        "        optimizer.step()\n",
        "\n",
        "    # Print statistics\n",
        "    print(f\"Epoch {epoch+1}/{10}, Loss: {loss.item():.4f}\")\n",
        "\n"
      ]
    },
    {
      "cell_type": "code",
      "source": [
        "import pickle\n",
        "\n",
        "with open('semi_model_05.pkl', 'wb') as f:\n",
        "    pickle.dump(semi_model_05, f)"
      ],
      "metadata": {
        "id": "bV21QCR5N9gi"
      },
      "execution_count": 33,
      "outputs": []
    },
    {
      "cell_type": "code",
      "source": [
        "pct_correct_semi_05 = 100 * evaluate_model(semi_model_05, loader_valid)\n",
        "print(f\"Accuracy of the supervised model trained on 5% of labels: {pct_correct_semi_05} %\")\n",
        "\n",
        "print(\"losses: \", losses)"
      ],
      "metadata": {
        "colab": {
          "base_uri": "https://localhost:8080/"
        },
        "id": "egytLKzVOKjd",
        "outputId": "eae58628-9950-4a80-a953-60a15c8b2b00"
      },
      "execution_count": 34,
      "outputs": [
        {
          "output_type": "stream",
          "name": "stderr",
          "text": [
            "/usr/lib/python3.10/multiprocessing/popen_fork.py:66: RuntimeWarning: os.fork() was called. os.fork() is incompatible with multithreaded code, and JAX is multithreaded, so this will likely lead to a deadlock.\n",
            "  self.pid = os.fork()\n"
          ]
        },
        {
          "output_type": "stream",
          "name": "stdout",
          "text": [
            "Accuracy of the supervised model trained on 5% of labels: 27.500000000000004 %\n"
          ]
        }
      ]
    },
    {
      "cell_type": "markdown",
      "source": [
        "# finally we try LLP with 25% labelled"
      ],
      "metadata": {
        "id": "rSUzY9kVOLFj"
      }
    },
    {
      "cell_type": "code",
      "execution_count": 35,
      "metadata": {
        "id": "2mTqZd_yBoKC",
        "colab": {
          "base_uri": "https://localhost:8080/"
        },
        "outputId": "c5543cd6-ce8e-4ae7-bc72-ff771475b20d"
      },
      "outputs": [
        {
          "output_type": "stream",
          "name": "stderr",
          "text": [
            "100%|██████████| 391/391 [06:32<00:00,  1.00s/it]\n"
          ]
        },
        {
          "output_type": "stream",
          "name": "stdout",
          "text": [
            "Epoch 1/10, Loss: 0.6309\n"
          ]
        },
        {
          "output_type": "stream",
          "name": "stderr",
          "text": [
            "\r  0%|          | 0/391 [00:00<?, ?it/s]/usr/lib/python3.10/multiprocessing/popen_fork.py:66: RuntimeWarning: os.fork() was called. os.fork() is incompatible with multithreaded code, and JAX is multithreaded, so this will likely lead to a deadlock.\n",
            "  self.pid = os.fork()\n",
            "100%|██████████| 391/391 [06:33<00:00,  1.01s/it]\n"
          ]
        },
        {
          "output_type": "stream",
          "name": "stdout",
          "text": [
            "Epoch 2/10, Loss: 0.6305\n"
          ]
        },
        {
          "output_type": "stream",
          "name": "stderr",
          "text": [
            "\r  0%|          | 0/391 [00:00<?, ?it/s]/usr/lib/python3.10/multiprocessing/popen_fork.py:66: RuntimeWarning: os.fork() was called. os.fork() is incompatible with multithreaded code, and JAX is multithreaded, so this will likely lead to a deadlock.\n",
            "  self.pid = os.fork()\n",
            "100%|██████████| 391/391 [06:30<00:00,  1.00it/s]\n"
          ]
        },
        {
          "output_type": "stream",
          "name": "stdout",
          "text": [
            "Epoch 3/10, Loss: 0.5773\n"
          ]
        },
        {
          "output_type": "stream",
          "name": "stderr",
          "text": [
            "\r  0%|          | 0/391 [00:00<?, ?it/s]/usr/lib/python3.10/multiprocessing/popen_fork.py:66: RuntimeWarning: os.fork() was called. os.fork() is incompatible with multithreaded code, and JAX is multithreaded, so this will likely lead to a deadlock.\n",
            "  self.pid = os.fork()\n",
            "100%|██████████| 391/391 [06:25<00:00,  1.01it/s]\n"
          ]
        },
        {
          "output_type": "stream",
          "name": "stdout",
          "text": [
            "Epoch 4/10, Loss: 0.4930\n"
          ]
        },
        {
          "output_type": "stream",
          "name": "stderr",
          "text": [
            "\r  0%|          | 0/391 [00:00<?, ?it/s]/usr/lib/python3.10/multiprocessing/popen_fork.py:66: RuntimeWarning: os.fork() was called. os.fork() is incompatible with multithreaded code, and JAX is multithreaded, so this will likely lead to a deadlock.\n",
            "  self.pid = os.fork()\n",
            "100%|██████████| 391/391 [06:26<00:00,  1.01it/s]"
          ]
        },
        {
          "output_type": "stream",
          "name": "stdout",
          "text": [
            "Epoch 5/10, Loss: 0.5006\n"
          ]
        },
        {
          "output_type": "stream",
          "name": "stderr",
          "text": [
            "\n"
          ]
        }
      ],
      "source": [
        "criterion = nn.CrossEntropyLoss(reduction='none')\n",
        "clustering_criterion = KMeansClusteringLoss()\n",
        "\n",
        "semi_model_25 = Model()\n",
        "\n",
        "semi_model_25.train()\n",
        "semi_model_25.to(device)\n",
        "\n",
        "optimizer = torch.optim.SGD(semi_model_25.parameters(), lr=0.0001, momentum=0.9)\n",
        "ALPHA = 0.0001 # hyper parameter controlling weight of cluster loss\n",
        "NUM_EPOCHS = 5\n",
        "K = 5\n",
        "T = 10\n",
        "TEMP = 50\n",
        "\n",
        "losses = []\n",
        "\n",
        "for epoch in range(NUM_EPOCHS):\n",
        "    for i, (images, labels) in enumerate(tqdm(semi_loader_25)):\n",
        "        images = images.to(device)\n",
        "        labels = labels.to(device)\n",
        "\n",
        "        # Forward pass\n",
        "        outputs, features = semi_model_25(images)\n",
        "\n",
        "        # print(f\"features: {features}\")\n",
        "\n",
        "        # pseudo-labelling\n",
        "        # pseudo_labels, confidence = weighted_knn(features, labels, K, TEMP)\n",
        "\n",
        "        pseudo_labels, confidence = LLP_pv(features, labels, K, T, TEMP, 10)\n",
        "\n",
        "        # print(f\"llp pseudolabels (shape={pseudo_labels.shape}): \", pseudo_labels)\n",
        "        # print(f\"llp confidence (shape={confidence.shape}): \", confidence)\n",
        "\n",
        "        # loss calculation\n",
        "        centroids = KMeans(n_clusters=10, n_init=10).fit(features.cpu().detach().numpy()).cluster_centers_\n",
        "        centroids = torch.tensor(centroids).to(device)\n",
        "        cluster_loss = ALPHA * clustering_criterion(features, centroids)\n",
        "\n",
        "        # print('CLUSTER LOSS: ', cluster_loss.mean().item())\n",
        "\n",
        "        ce_loss = criterion(outputs, pseudo_labels)\n",
        "\n",
        "        # print('CE LOSS: ', ce_loss.mean().item())\n",
        "\n",
        "        loss = (confidence * (ce_loss + cluster_loss)).mean()\n",
        "        losses.append(loss.item())\n",
        "\n",
        "        # Backward pass\n",
        "\n",
        "        optimizer.zero_grad()\n",
        "        loss.backward()\n",
        "        optimizer.step()\n",
        "\n",
        "    # Print statistics\n",
        "    print(f\"Epoch {epoch+1}/{10}, Loss: {loss.item():.4f}\")\n",
        "\n"
      ]
    },
    {
      "cell_type": "code",
      "source": [
        "import pickle\n",
        "\n",
        "with open('semi_model_25.pkl', 'wb') as f:\n",
        "    pickle.dump(semi_model_25, f)"
      ],
      "metadata": {
        "id": "0vyQt86_YH91"
      },
      "execution_count": 36,
      "outputs": []
    },
    {
      "cell_type": "code",
      "source": [
        "# TODO: import this model and do the evaluate_model and make the graphs"
      ],
      "metadata": {
        "id": "SCscREtxk99v"
      },
      "execution_count": null,
      "outputs": []
    },
    {
      "cell_type": "code",
      "source": [
        "pct_correct_semi_25 = 100 * evaluate_model(semi_model_25, loader_valid)\n",
        "print(f\"Accuracy of the supervised model trained on 25% of labels: {pct_correct_semi_25} %\")\n",
        "\n",
        "print(\"losses: \", losses)"
      ],
      "metadata": {
        "colab": {
          "base_uri": "https://localhost:8080/"
        },
        "id": "c-Yr6a_TYL-3",
        "outputId": "3213916b-f9a6-4f81-e61f-8112870b899c"
      },
      "execution_count": 37,
      "outputs": [
        {
          "output_type": "stream",
          "name": "stderr",
          "text": [
            "/usr/lib/python3.10/multiprocessing/popen_fork.py:66: RuntimeWarning: os.fork() was called. os.fork() is incompatible with multithreaded code, and JAX is multithreaded, so this will likely lead to a deadlock.\n",
            "  self.pid = os.fork()\n",
            "/usr/lib/python3.10/multiprocessing/popen_fork.py:66: RuntimeWarning: os.fork() was called. os.fork() is incompatible with multithreaded code, and JAX is multithreaded, so this will likely lead to a deadlock.\n",
            "  self.pid = os.fork()\n"
          ]
        },
        {
          "output_type": "stream",
          "name": "stdout",
          "text": [
            "Accuracy of the supervised model trained on 25% of labels: 69.74000000000001 %\n"
          ]
        }
      ]
    }
  ],
  "metadata": {
    "accelerator": "GPU",
    "colab": {
      "gpuType": "T4",
      "provenance": []
    },
    "kernelspec": {
      "display_name": "Python 3",
      "name": "python3"
    },
    "language_info": {
      "name": "python"
    }
  },
  "nbformat": 4,
  "nbformat_minor": 0
}
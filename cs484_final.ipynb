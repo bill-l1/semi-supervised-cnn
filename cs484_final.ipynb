{
  "nbformat": 4,
  "nbformat_minor": 0,
  "metadata": {
    "colab": {
      "provenance": [],
      "collapsed_sections": [
        "m6ZDSXBMESb1"
      ],
      "gpuType": "T4"
    },
    "kernelspec": {
      "name": "python3",
      "display_name": "Python 3"
    },
    "language_info": {
      "name": "python"
    },
    "accelerator": "GPU"
  },
  "cells": [
    {
      "cell_type": "markdown",
      "source": [
        "Title:\n",
        "\n",
        "Name:\n",
        "\n",
        "UW Email:"
      ],
      "metadata": {
        "id": "s6fRi3NTHDMe"
      }
    },
    {
      "cell_type": "markdown",
      "source": [
        "# Abstract\n",
        "\n",
        "TODO\n"
      ],
      "metadata": {
        "id": "TlWX52jOG3UI"
      }
    },
    {
      "cell_type": "markdown",
      "source": [
        "# Team members & contributions\n",
        "\n",
        "TODO"
      ],
      "metadata": {
        "id": "cfWjvlasG6H2"
      }
    },
    {
      "cell_type": "code",
      "execution_count": 1,
      "metadata": {
        "id": "Gt4OIkdTOnjJ"
      },
      "outputs": [],
      "source": [
        "import numpy as np\n",
        "import matplotlib.pyplot as plt\n",
        "from tqdm import tqdm\n",
        "\n",
        "import torch\n",
        "import torchvision\n",
        "import torch.nn.functional as F\n",
        "from torch import nn\n",
        "from torch.utils.data import DataLoader\n",
        "import torchvision.transforms as transforms\n",
        "import torchvision.transforms.functional as tF\n",
        "import torchvision.datasets as datasets\n",
        "from torchvision.models import ResNet18_Weights\n",
        "\n",
        "from sklearn.cluster import KMeans"
      ]
    },
    {
      "cell_type": "code",
      "source": [
        "device = torch.device(\"cuda:0\" if torch.cuda.is_available() else \"cpu\")\n",
        "\n",
        "torch.manual_seed(42)\n",
        "np.random.seed(42)"
      ],
      "metadata": {
        "id": "_SPVK8GKFQ6K"
      },
      "execution_count": 2,
      "outputs": []
    },
    {
      "cell_type": "code",
      "source": [
        "# TODO: create more datasets\n",
        "\n",
        "UNLABELLED = -1\n",
        "\n",
        "transform = transforms.Compose([\n",
        "    transforms.Resize(256),\n",
        "    transforms.CenterCrop(224),\n",
        "    transforms.ToTensor(),\n",
        "    transforms.Normalize((0.5, 0.5, 0.5), (0.5, 0.5, 0.5)),\n",
        "])\n",
        "\n",
        "# Load CIFAR-10 datasets\n",
        "cifar_train = datasets.CIFAR10(root='./data', train=True, download=True, transform=transform)\n",
        "cifar_valid = datasets.CIFAR10(root='./data', train=False, download=True, transform=transform)\n",
        "\n",
        "def generate_indices(dataset, pct_labelled):\n",
        "    num_samples = int(0.1 * len(dataset))\n",
        "    return torch.randperm(len(dataset))[:num_samples]\n",
        "\n",
        "indices_10 = generate_indices(cifar_train, 0.1)\n",
        "\n",
        "# Define datasets for fully supervised learning\n",
        "\n",
        "full_dataset_10 = torch.utils.data.Subset(cifar_train, indices_10)\n",
        "full_loader_10 = DataLoader(full_dataset_10, batch_size=128, shuffle=True, num_workers=2)\n",
        "\n",
        "loader_valid = DataLoader(cifar_valid, batch_size=128, shuffle=False, num_workers=2)"
      ],
      "metadata": {
        "colab": {
          "base_uri": "https://localhost:8080/"
        },
        "id": "MZpGRyFgzGDT",
        "outputId": "72a77da1-094d-456a-9cc9-99c6bfdfc85c"
      },
      "execution_count": 3,
      "outputs": [
        {
          "output_type": "stream",
          "name": "stdout",
          "text": [
            "Files already downloaded and verified\n",
            "Files already downloaded and verified\n"
          ]
        }
      ]
    },
    {
      "cell_type": "code",
      "source": [
        "class Model(nn.Module):\n",
        "    def __init__(self):\n",
        "        super(Model, self).__init__()\n",
        "        self.model = torchvision.models.resnet18(weights=ResNet18_Weights.IMAGENET1K_V1) # initialize weights to make training easier (via transfer learning)\n",
        "        self.model.fc = nn.Identity()\n",
        "        self.fc = nn.Linear(512, 10)\n",
        "\n",
        "    def forward(self, x):\n",
        "        features = self.model(x)\n",
        "        x = self.fc(features)\n",
        "        return x, features"
      ],
      "metadata": {
        "id": "kShKg8NvDKeM"
      },
      "execution_count": 4,
      "outputs": []
    },
    {
      "cell_type": "markdown",
      "source": [
        "# Supervised learning"
      ],
      "metadata": {
        "id": "m6ZDSXBMESb1"
      }
    },
    {
      "cell_type": "code",
      "source": [
        "device = torch.device(\"cuda:0\" if torch.cuda.is_available() else \"cpu\")\n",
        "\n",
        "criterion = nn.CrossEntropyLoss()\n",
        "\n",
        "full_model_10 = Model()\n",
        "\n",
        "full_model_10.train()\n",
        "full_model_10.to(device)\n",
        "\n",
        "optimizer = torch.optim.SGD(full_model_10.parameters(), lr=0.001, momentum=0.9)\n",
        "num_epochs = 1\n",
        "\n",
        "losses = []\n",
        "\n",
        "for epoch in range(num_epochs):\n",
        "    for i, (images, labels) in enumerate(tqdm(full_loader_10)):\n",
        "        images = images.to(device)\n",
        "        labels = labels.to(device)\n",
        "\n",
        "        # Forward pass\n",
        "        outputs, features = full_model_10(images)\n",
        "\n",
        "        loss = criterion(outputs, labels)\n",
        "        losses.append(loss.item())\n",
        "\n",
        "        # Backward pass\n",
        "        optimizer.zero_grad()\n",
        "        loss.backward()\n",
        "        optimizer.step()\n",
        "\n",
        "    # Print statistics\n",
        "    print(f\"Epoch {epoch+1}/{10}, Loss: {loss.item():.4f}\")\n",
        "\n"
      ],
      "metadata": {
        "colab": {
          "base_uri": "https://localhost:8080/"
        },
        "id": "_Bs9Uabhy6nV",
        "outputId": "df095880-02da-4e3d-f3b5-a5e4100041af"
      },
      "execution_count": null,
      "outputs": [
        {
          "output_type": "stream",
          "name": "stderr",
          "text": [
            "Downloading: \"https://download.pytorch.org/models/resnet18-f37072fd.pth\" to /root/.cache/torch/hub/checkpoints/resnet18-f37072fd.pth\n",
            "100%|██████████| 44.7M/44.7M [00:00<00:00, 106MB/s]\n",
            "100%|██████████| 40/40 [00:15<00:00,  2.52it/s]"
          ]
        },
        {
          "output_type": "stream",
          "name": "stdout",
          "text": [
            "Epoch 1/10, Loss: 1.7189\n"
          ]
        },
        {
          "output_type": "stream",
          "name": "stderr",
          "text": [
            "\n"
          ]
        }
      ]
    },
    {
      "cell_type": "code",
      "source": [
        "plt.plot(losses)\n",
        "plt.title('Supervised training loss')\n",
        "plt.ylabel('Loss')\n",
        "plt.xlabel('Iteration')\n",
        "plt.show()\n"
      ],
      "metadata": {
        "colab": {
          "base_uri": "https://localhost:8080/",
          "height": 472
        },
        "id": "jfgDjb6GBKZp",
        "outputId": "2701a0b8-1c26-4336-81bf-536042ad3648"
      },
      "execution_count": null,
      "outputs": [
        {
          "output_type": "display_data",
          "data": {
            "text/plain": [
              "<Figure size 640x480 with 1 Axes>"
            ],
            "image/png": "[encoded data removed]"
          },
          "metadata": {}
        }
      ]
    },
    {
      "cell_type": "code",
      "source": [
        "# TODO: make this its own function maybe (e.g. evaluate_model)?\n",
        "\n",
        "# Evaluate the model\n",
        "full_model_10.eval()\n",
        "correct = 0\n",
        "total = 0\n",
        "with torch.no_grad():\n",
        "    for images, labels in loader_valid:\n",
        "        images = images.to(device)\n",
        "        labels = labels.to(device)\n",
        "\n",
        "        outputs, _ = full_model_10(images)\n",
        "        _, predicted = torch.max(outputs.data, 1)\n",
        "\n",
        "        total += labels.size(0)\n",
        "        correct += (predicted == labels).sum().item()\n",
        "\n",
        "print('Accuracy of the supervised trained model: %d %%' % (100 * correct / total))\n"
      ],
      "metadata": {
        "colab": {
          "base_uri": "https://localhost:8080/"
        },
        "id": "ugsr8pVI8Kfr",
        "outputId": "b92946e1-afc6-4588-b659-20f4098c01ca"
      },
      "execution_count": null,
      "outputs": [
        {
          "output_type": "stream",
          "name": "stdout",
          "text": [
            "Accuracy of the supervised trained model: 54 %\n"
          ]
        }
      ]
    },
    {
      "cell_type": "code",
      "source": [
        "# Compared to untrained model\n",
        "\n",
        "untrained_model = Model()\n",
        "untrained_model.eval()\n",
        "untrained_model.to(device)\n",
        "\n",
        "# Evaluate the model\n",
        "correct = 0\n",
        "total = 0\n",
        "with torch.no_grad():\n",
        "    for images, labels in loader_valid:\n",
        "        images = images.to(device)\n",
        "        labels = labels.to(device)\n",
        "\n",
        "        outputs, _ = untrained_model(images)\n",
        "        _, predicted = torch.max(outputs.data, 1)\n",
        "\n",
        "        total += labels.size(0)\n",
        "        correct += (predicted == labels).sum().item()\n",
        "\n",
        "print('Accuracy of an untrained model : %d %%' % (100 * correct / total))\n"
      ],
      "metadata": {
        "colab": {
          "base_uri": "https://localhost:8080/"
        },
        "id": "_C0hWRf58_2L",
        "outputId": "0fe9ad6e-24f4-4134-9c4b-07aca33ac2ab"
      },
      "execution_count": null,
      "outputs": [
        {
          "output_type": "stream",
          "name": "stdout",
          "text": [
            "Accuracy of an untrained model : 12 %\n"
          ]
        }
      ]
    },
    {
      "cell_type": "markdown",
      "source": [
        "# Semi-supervised learning"
      ],
      "metadata": {
        "id": "3Gtb3vj4Egj2"
      }
    },
    {
      "cell_type": "code",
      "source": [
        "# Custom dataset for semi-supervised learning\n",
        "class SemiSupervised(torch.utils.data.Dataset):\n",
        "    def __init__(self, labeled_dataset, indices):\n",
        "        self.labeled_dataset = labeled_dataset\n",
        "        self.labeled_indices = indices\n",
        "\n",
        "    def __getitem__(self, index):\n",
        "        if index in self.labeled_indices:\n",
        "            return self.labeled_dataset[index]\n",
        "        else:\n",
        "            img, label = self.labeled_dataset[index]\n",
        "            return img, UNLABELLED\n",
        "\n",
        "    def __len__(self):\n",
        "        return len(self.labeled_dataset)\n",
        "\n",
        "# Create semi-supervised datasets\n",
        "semi_dataset_10 = SemiSupervised(\n",
        "    labeled_dataset=cifar_train,\n",
        "    indices=indices_10\n",
        ")\n",
        "\n",
        "semi_loader_10 = DataLoader(semi_dataset_10, batch_size=128, shuffle=True, num_workers=2)"
      ],
      "metadata": {
        "id": "8q4EVfFCcqX1"
      },
      "execution_count": 5,
      "outputs": []
    },
    {
      "cell_type": "code",
      "source": [
        "# non-parametric softmax operation by Wu et. al.\n",
        "# axis 0: v, axis 1: i\n",
        "def PIV(features, temp):\n",
        "  upper = torch.exp(torch.matmul(features, features.T) / temp)\n",
        "  denom = upper.sum(axis=1)\n",
        "  return upper / denom\n",
        "\n",
        "def weighted_knn(features, labels, k, temp):\n",
        "  # Calculate the distances between each pair of points\n",
        "    mask = torch.where(labels == UNLABELLED)\n",
        "    unlabelled_features = (features[mask])\n",
        "    labelled_features = features[labels != UNLABELLED]\n",
        "    only_labels = labels[labels != UNLABELLED]\n",
        "\n",
        "    distances = torch.cdist(unlabelled_features, labelled_features, p=2)\n",
        "\n",
        "    # Find the k nearest neighbors for each point in x\n",
        "    _, indices = torch.topk(distances, k=min(k, len(only_labels)), largest=False)\n",
        "\n",
        "    piv = PIV(features, temp)\n",
        "\n",
        "    weights = torch.zeros((len(mask[0]), 10))\n",
        "    weights = weights.to(device)\n",
        "\n",
        "    for i, idxs in enumerate(indices):\n",
        "      v = mask[0][i]\n",
        "      for j in idxs:\n",
        "        weights[i][only_labels[j]] += piv[v, j]\n",
        "\n",
        "    probs = weights / weights.sum(axis=1)[:, None]\n",
        "\n",
        "    pseudo_confidence, pseudo_labels = probs.max(axis=1)\n",
        "\n",
        "    pseudo_labels = pseudo_labels.to(device)\n",
        "    pseudo_confidence = pseudo_confidence.to(device)\n",
        "\n",
        "    new_labels = labels.clone()\n",
        "    new_labels[mask] = pseudo_labels\n",
        "\n",
        "    confidence = torch.ones_like(labels, dtype=pseudo_confidence.dtype)\n",
        "    confidence[mask] = pseudo_confidence\n",
        "\n",
        "    return new_labels, confidence\n",
        "\n",
        "# TODO: add LLP\n",
        "def LLP(features, labels, temp):\n",
        "  pass\n"
      ],
      "metadata": {
        "id": "EByz4Mg9Udzz"
      },
      "execution_count": 6,
      "outputs": []
    },
    {
      "cell_type": "code",
      "source": [
        "class KMeansClusteringLoss(torch.nn.Module):\n",
        "    def __init__(self):\n",
        "        super(KMeansClusteringLoss, self).__init__()\n",
        "\n",
        "    def forward(self, features, centroids):\n",
        "        n = features.shape[0]\n",
        "        d = features.shape[1]\n",
        "        k = centroids.shape[0]\n",
        "\n",
        "        z = features.reshape(n, 1, d)\n",
        "        z = z.repeat(1, k, 1)\n",
        "\n",
        "        mu = centroids.reshape(1, k, d)\n",
        "        mu = mu.repeat(n, 1, 1)\n",
        "\n",
        "        dist = (z - mu).norm(2, dim=2).reshape((n, k))\n",
        "        loss = (dist.min(dim=1)[0] ** 2)\n",
        "\n",
        "        return loss"
      ],
      "metadata": {
        "id": "txWX7c4qvuPj"
      },
      "execution_count": 7,
      "outputs": []
    },
    {
      "cell_type": "code",
      "source": [
        "criterion = nn.CrossEntropyLoss(reduction='none')\n",
        "clustering_criterion = KMeansClusteringLoss()\n",
        "\n",
        "semi_model_10 = Model()\n",
        "\n",
        "semi_model_10.train()\n",
        "semi_model_10.to(device)\n",
        "\n",
        "optimizer = torch.optim.SGD(semi_model_10.parameters(), lr=0.001, momentum=0.9)\n",
        "ALPHA = 0.01 # hyper parameter controlling weight of cluster loss\n",
        "NUM_EPOCHS = 1\n",
        "K = 5\n",
        "TEMP = 25\n",
        "\n",
        "losses = []\n",
        "\n",
        "for epoch in range(NUM_EPOCHS):\n",
        "    for i, (images, labels) in enumerate(tqdm(semi_loader_10)):\n",
        "        images = images.to(device)\n",
        "        labels = labels.to(device)\n",
        "\n",
        "        # Forward pass\n",
        "        outputs, features = semi_model_10(images)\n",
        "\n",
        "        # pseudo-labelling\n",
        "        pseudo_labels, confidence = weighted_knn(features, labels, K, TEMP)\n",
        "\n",
        "        # loss calculation\n",
        "        centroids = KMeans(n_clusters=10, n_init=10).fit(features.detach().numpy()).cluster_centers_\n",
        "        centroids = torch.tensor(centroids).to(device)\n",
        "        cluster_loss = ALPHA * clustering_criterion(features, centroids)\n",
        "\n",
        "        # print('CLUSTER LOSS: ', cluster_loss.mean().item())\n",
        "\n",
        "        ce_loss = criterion(outputs, pseudo_labels)\n",
        "\n",
        "        # print('CE LOSS: ', ce_loss.mean().item())\n",
        "\n",
        "        loss = (confidence * (ce_loss + cluster_loss)).mean()\n",
        "        losses.append(loss.item())\n",
        "\n",
        "        # Backward pass\n",
        "\n",
        "        optimizer.zero_grad()\n",
        "        loss.backward()\n",
        "        optimizer.step()\n",
        "\n",
        "    # Print statistics\n",
        "    print(f\"Epoch {epoch+1}/{10}, Loss: {loss.item():.4f}\")\n",
        "\n"
      ],
      "metadata": {
        "id": "h5dyf4jtEm5T"
      },
      "execution_count": null,
      "outputs": []
    },
    {
      "cell_type": "code",
      "source": [
        "plt.plot(losses)\n",
        "plt.title('Semi-supervised training loss')\n",
        "plt.ylabel('Loss')\n",
        "plt.xlabel('Iteration')\n",
        "plt.show()\n"
      ],
      "metadata": {
        "id": "tffQpBjyF2hM"
      },
      "execution_count": null,
      "outputs": []
    },
    {
      "cell_type": "code",
      "source": [
        "# Evaluate the model\n",
        "semi_model_10.eval()\n",
        "correct = 0\n",
        "total = 0\n",
        "with torch.no_grad():\n",
        "    for images, labels in loader_valid:\n",
        "        images = images.to(device)\n",
        "        labels = labels.to(device)\n",
        "\n",
        "        outputs, _ = semi_model_10(images)\n",
        "        _, predicted = torch.max(outputs.data, 1)\n",
        "\n",
        "        total += labels.size(0)\n",
        "        correct += (predicted == labels).sum().item()\n",
        "\n",
        "print('Accuracy of the semi-supervised trained model: %d %%' % (100 * correct / total))\n"
      ],
      "metadata": {
        "colab": {
          "base_uri": "https://localhost:8080/"
        },
        "id": "Qqzp8lUQefmH",
        "outputId": "d22ace1d-86cb-46f5-b4f6-9b827611f691"
      },
      "execution_count": null,
      "outputs": [
        {
          "output_type": "stream",
          "name": "stderr",
          "text": [
            "/usr/lib/python3.10/multiprocessing/popen_fork.py:66: RuntimeWarning: os.fork() was called. os.fork() is incompatible with multithreaded code, and JAX is multithreaded, so this will likely lead to a deadlock.\n",
            "  self.pid = os.fork()\n",
            "/usr/lib/python3.10/multiprocessing/popen_fork.py:66: RuntimeWarning: os.fork() was called. os.fork() is incompatible with multithreaded code, and JAX is multithreaded, so this will likely lead to a deadlock.\n",
            "  self.pid = os.fork()\n"
          ]
        },
        {
          "output_type": "stream",
          "name": "stdout",
          "text": [
            "Accuracy of the semi-supervised trained model: 42 %\n"
          ]
        }
      ]
    }
  ]
}